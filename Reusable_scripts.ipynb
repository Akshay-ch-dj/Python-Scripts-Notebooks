{
 "metadata": {
  "language_info": {
   "codemirror_mode": {
    "name": "ipython",
    "version": 3
   },
   "file_extension": ".py",
   "mimetype": "text/x-python",
   "name": "python",
   "nbconvert_exporter": "python",
   "pygments_lexer": "ipython3",
   "version": "3.8.6-final"
  },
  "orig_nbformat": 2,
  "kernelspec": {
   "name": "python3",
   "display_name": "Python 3.8.6 64-bit ('localEnv')",
   "metadata": {
    "interpreter": {
     "hash": "94d8449d6c9babd0cd69568e3e9e7b3dce1486b7cedd1f0e8c5a55e0106177b0"
    }
   }
  }
 },
 "nbformat": 4,
 "nbformat_minor": 2,
 "cells": [
  {
   "source": [
    "### The print debugging script\n",
    "\n",
    "This is a simple modifier script to the `print()`, helpful in *printf* debugging that also prints the line number too\n",
    "one can add more to it according to the debuggibg requirement.\n",
    "(For the jupyter note book toggle line numbers using the **L** key)"
   ],
   "cell_type": "markdown",
   "metadata": {}
  },
  {
   "cell_type": "code",
   "execution_count": 1,
   "metadata": {},
   "outputs": [
    {
     "output_type": "stream",
     "name": "stdout",
     "text": [
      "13: \n"
     ]
    }
   ],
   "source": [
    "from inspect import currentframe\n",
    "\n",
    "def dPrint(content=''):\n",
    "    \"\"\"Generate a debug print line\n",
    "    as a modifier to the original print function\n",
    "\n",
    "    Args:\n",
    "        content (): the content to be printed to the terminal\n",
    "    \"\"\"\n",
    "    print(f\"{currentframe().f_back.f_lineno}: {content}\")\n",
    "\n",
    "\n",
    "dPrint()\n",
    "# 26:\n",
    "# Where 26 is the line number where the print called\n"
   ]
  },
  {
   "cell_type": "code",
   "execution_count": null,
   "metadata": {},
   "outputs": [],
   "source": []
  }
 ]
}
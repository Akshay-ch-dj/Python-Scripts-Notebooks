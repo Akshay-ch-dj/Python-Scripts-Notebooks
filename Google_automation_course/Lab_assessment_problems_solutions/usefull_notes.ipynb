{
 "metadata": {
  "language_info": {
   "codemirror_mode": {
    "name": "ipython",
    "version": 3
   },
   "file_extension": ".py",
   "mimetype": "text/x-python",
   "name": "python",
   "nbconvert_exporter": "python",
   "pygments_lexer": "ipython3",
   "version": "3.8.6-final"
  },
  "orig_nbformat": 2,
  "kernelspec": {
   "name": "Python 3.8.6 64-bit",
   "display_name": "Python 3.8.6 64-bit",
   "metadata": {
    "interpreter": {
     "hash": "604522f1918a4f70ab804f3225c4c25389e7cf7d629ed4133598ebf924cdb86e"
    }
   }
  }
 },
 "nbformat": 4,
 "nbformat_minor": 2,
 "cells": [
  {
   "source": [
    "Solution from officials - for the efficiant path copy lab"
   ],
   "cell_type": "markdown",
   "metadata": {}
  },
  {
   "cell_type": "code",
   "execution_count": null,
   "metadata": {},
   "outputs": [],
   "source": [
    "#!/usr/bin/env python3\n",
    "\n",
    "from multiprocessing import Pool\n",
    "import multiprocessing\n",
    "import subprocess\n",
    "import os\n",
    "\n",
    "home_path = os.path.expanduser('~')\n",
    "\n",
    "src = home_path + \"/data/prod/\"\n",
    "dest = home_path + \"/data/prod_backup/\"\n",
    "\n",
    "if __name__ == \"__main__\":\n",
    "    pool = Pool(multiprocessing.cpu_count())\n",
    "    pool.apply(subprocess.call, args=([\"rsync\", \"-arq\", src, dest]))"
   ]
  },
  {
   "source": [
    "from multiprocessing import Pool\n",
    "import subprocess\n",
    "import os\n",
    "\n",
    "def run(dir):\n",
    "    dest = \"./data/prod_backup\"\n",
    "    print(\"transfer from {} to {}\".format(dir, dest))\n",
    "    subprocess.call([\"rsync\", \"-arq\", dir, dest])\n",
    "\n",
    "if __name__ == \"__main__\":\n",
    "    listOffiles = os.listdir(\"./data/prod\")\n",
    "    # Empty List\n",
    "    allFiles = [];\n",
    "    for entry in listOffiles:\n",
    "        fullpath = os.path.join(\"./data/prod\", entry)\n",
    "        if os.path.isdir(fullpath):\n",
    "            allFiles.append(fullpath)\n",
    "\n",
    "    p = Pool(len(allFiles))\n",
    "    p = map(run, allFiles)\n"
   ],
   "cell_type": "code",
   "metadata": {},
   "execution_count": null,
   "outputs": []
  },
  {
   "cell_type": "code",
   "execution_count": null,
   "metadata": {},
   "outputs": [],
   "source": []
  }
 ]
}
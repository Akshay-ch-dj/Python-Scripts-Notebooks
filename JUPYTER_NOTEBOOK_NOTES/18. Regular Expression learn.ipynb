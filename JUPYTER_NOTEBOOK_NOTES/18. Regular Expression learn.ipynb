{
 "cells": [
  {
   "cell_type": "code",
   "execution_count": 13,
   "metadata": {},
   "outputs": [
    {
     "name": "stdout",
     "output_type": "stream",
     "text": [
      "True\n"
     ]
    }
   ],
   "source": [
    "import re\n",
    "def regexp_check(text):\n",
    "    result = re.search(r\"^[A-Z][A-Za-z ,\\'\\\"()]*[.?!]$\", text)\n",
    "    return result != None\n",
    "\n",
    "print(regexp_check(\"Hai, (ku)I am Tony!\"))"
   ]
  },
  {
   "cell_type": "code",
   "execution_count": 33,
   "metadata": {},
   "outputs": [
    {
     "name": "stdout",
     "output_type": "stream",
     "text": [
      "12345\n",
      "Match Found\n"
     ]
    }
   ],
   "source": [
    "def regexp_check2(text):\n",
    "    result = re.search(r\"\\[(\\d+)\\]\", text)\n",
    "#     Search anywwhere in text for [ then \\d(matching digits) the +(match one or more occurence) then ]closing\n",
    "    if result != None:\n",
    "        print(result[1])\n",
    "        return \"Match Found\"\n",
    "    return \"No Match\"\n",
    "\n",
    "print(regexp_check2(\"Hai [12345]I am Tony!\"))"
   ]
  },
  {
   "cell_type": "code",
   "execution_count": 37,
   "metadata": {},
   "outputs": [
    {
     "name": "stdout",
     "output_type": "stream",
     "text": [
      "<re.Match object; span=(18, 22), match='hway'>\n",
      "hway\n",
      "Match Found\n"
     ]
    }
   ],
   "source": [
    "def regexp_check3(text):\n",
    "    result = re.search(r\"[a-z]way\", text)\n",
    "#     Character classes, [] eg.[A-Z], [a-z], [0-9]...etc\n",
    "    if result != None:\n",
    "        print(result)\n",
    "        print(result[0])\n",
    "        return \"Match Found\"\n",
    "    return \"No Match\"\n",
    "\n",
    "print(regexp_check3(\"The end of the Highway\"))"
   ]
  },
  {
   "cell_type": "code",
   "execution_count": 38,
   "metadata": {},
   "outputs": [
    {
     "name": "stdout",
     "output_type": "stream",
     "text": [
      "<re.Match object; span=(3, 4), match=' '>\n",
      " \n",
      "Match Found\n"
     ]
    }
   ],
   "source": [
    "def regexp_check4(text):\n",
    "    result = re.search(r\"[^a-zA-Z]\", text)\n",
    "#     Any characters that arn't in a group, above one mathces any character but not a letter(A-Z or a-z not gonna match)\n",
    "    if result != None:\n",
    "        print(result)\n",
    "        print(result[0])\n",
    "        return \"Match Found\"\n",
    "    return \"No Match\"\n",
    "\n",
    "print(regexp_check4(\"The end of the Highway\"))"
   ]
  },
  {
   "cell_type": "code",
   "execution_count": 39,
   "metadata": {},
   "outputs": [
    {
     "name": "stdout",
     "output_type": "stream",
     "text": [
      "<re.Match object; span=(4, 15), match='termination'>\n",
      "termination\n",
      "Match Found\n",
      "<re.Match object; span=(4, 7), match='end'>\n",
      "end\n",
      "Match Found\n"
     ]
    }
   ],
   "source": [
    "def regexp_check5(text):\n",
    "    result = re.search(r\"end|termination\", text)\n",
    "#     Alternate options for matchng end or termination is ok\n",
    "    if result != None:\n",
    "        print(result)\n",
    "        print(result[0])\n",
    "        return \"Match Found\"\n",
    "    return \"No Match\"\n",
    "\n",
    "print(regexp_check5(\"The termination of the Highway\"))\n",
    "print(regexp_check5(\"The end of the Highway\"))"
   ]
  },
  {
   "cell_type": "code",
   "execution_count": 43,
   "metadata": {},
   "outputs": [
    {
     "name": "stdout",
     "output_type": "stream",
     "text": [
      "['cat', 'dog']\n",
      "Match Found\n"
     ]
    }
   ],
   "source": [
    "def regexp_check6(text):\n",
    "    result = re.findall(r\"cat|dog\", text)\n",
    "#     Alternate options for matchng, use findall() insted of search() to find all the matches\n",
    "    if result != None:\n",
    "        print(result)\n",
    "        return \"Match Found\"\n",
    "    return \"No Match\"\n",
    "\n",
    "print(regexp_check6(\"I like both cats and dogs\"))"
   ]
  },
  {
   "cell_type": "code",
   "execution_count": 45,
   "metadata": {},
   "outputs": [
    {
     "name": "stdout",
     "output_type": "stream",
     "text": [
      "<re.Match object; span=(0, 9), match='Pygmalion'>\n",
      "Match Found\n",
      "<re.Match object; span=(0, 6), match='Python'>\n",
      "Match Found\n",
      "<re.Match object; span=(1, 7), match='Python'>\n",
      "Match Found\n",
      "No Match\n"
     ]
    }
   ],
   "source": [
    "# Repeated matching using \".*\"\n",
    "# Need to find if \"py\" followed by any no of chrtrs then \"n\" in the string\n",
    "def regexp_check7(text):\n",
    "    result = re.search(r\"[Pp]y[a-z]*n\", text)\n",
    "# Only matches letters    \n",
    "    if result != None:\n",
    "        print(result)\n",
    "        return \"Match Found\"\n",
    "    return \"No Match\"\n",
    "\n",
    "print(regexp_check7(\"Pygmalion\"))\n",
    "print(regexp_check7(\"Python programming\"))\n",
    "print(regexp_check7(\"iPython programming\"))\n",
    "print(regexp_check7(\"iPy thon programming\"))"
   ]
  },
  {
   "cell_type": "code",
   "execution_count": 46,
   "metadata": {},
   "outputs": [
    {
     "name": "stdout",
     "output_type": "stream",
     "text": [
      "<re.Match object; span=(0, 0), match=''>\n",
      "Match Found\n"
     ]
    }
   ],
   "source": [
    "# The \"?\" Symbol\n",
    "def regexp_check8(text):\n",
    "    result = re.search(r\"\", text)\n",
    "#    \n",
    "    if result != None:\n",
    "        print(result)\n",
    "        return \"Match Found\"\n",
    "    return \"No Match\"\n",
    "\n",
    "print(regexp_check8(\"Pygmalion\"))"
   ]
  },
  {
   "cell_type": "markdown",
   "metadata": {},
   "source": [
    "The check_web_address function checks if the text passed qualifies as a top-level web address, meaning that it contains alphanumeric characters (which includes letters, numbers, and underscores), as well as periods, dashes, and a plus sign, followed by a period and a character-only top-level domain such as \".com\", \".info\", \".edu\", etc. Fill in the regular expression to do that, using escape characters, wildcards, repetition qualifiers, beginning and end-of-line characters, and character classes."
   ]
  },
  {
   "cell_type": "code",
   "execution_count": 141,
   "metadata": {},
   "outputs": [
    {
     "name": "stdout",
     "output_type": "stream",
     "text": [
      "True\n",
      "False\n",
      "True\n",
      "False\n",
      "True\n"
     ]
    }
   ],
   "source": [
    "import re\n",
    "def check_web_address(text):\n",
    "  pattern = r\"^[\\w\\-\\.\\+]*[\\.][a-zA-Z]*$\"\n",
    "  result = re.search(pattern, text)\n",
    "#     [\\w]+[\\.\\+-] Any combination of these things\n",
    "  return result != None\n",
    "\n",
    "print(check_web_address(\"gmail.com\")) # True\n",
    "print(check_web_address(\"www@google\")) # False\n",
    "print(check_web_address(\"www.Coursera.org\")) # True\n",
    "print(check_web_address(\"web-address.com/homepage\")) # False\n",
    "print(check_web_address(\"My_Favorite-Blog.US\")) # True"
   ]
  },
  {
   "cell_type": "markdown",
   "metadata": {},
   "source": [
    "The check_time function checks for the time format of a 12-hour clock, as follows: the hour is between 1 and 12, with no leading zero, followed by a colon, then minutes between 00 and 59, then an optional space, and then AM or PM, in upper or lower case. Fill in the regular expression to do that. How many of the concepts that you just learned can you use here?"
   ]
  },
  {
   "cell_type": "code",
   "execution_count": 171,
   "metadata": {},
   "outputs": [
    {
     "name": "stdout",
     "output_type": "stream",
     "text": [
      "True\n",
      "True\n",
      "True\n",
      "False\n",
      "False\n"
     ]
    }
   ],
   "source": [
    "import re\n",
    "def check_time(text):\n",
    "  pattern = r\"^[1-9][0-2]?:[0-5][0-9] ?[AaPp][mM]$\"\n",
    "  result = re.search(pattern, text)\n",
    "  return result != None\n",
    "\n",
    "print(check_time(\"12:45AM\")) # True\n",
    "print(check_time(\"9:59 AM\")) # True\n",
    "print(check_time(\"10:59pM\")) # True\n",
    "print(check_time(\"6:60am\")) # False\n",
    "print(check_time(\"five o'clock\")) # False"
   ]
  },
  {
   "cell_type": "markdown",
   "metadata": {},
   "source": [
    "The contains_acronym function checks the text for the presence of 2 or more characters or digits surrounded by parentheses, with at least the first character in uppercase (if it's a letter), returning True if the condition is met, or False otherwise. For example, \"Instant messaging (IM) is a set of communication technologies used for text-based communication\" should return True since (IM) satisfies the match conditions.\" Fill in the regular expression in this function:"
   ]
  },
  {
   "cell_type": "code",
   "execution_count": 210,
   "metadata": {},
   "outputs": [
    {
     "name": "stdout",
     "output_type": "stream",
     "text": [
      "True\n",
      "True\n",
      "False\n",
      "True\n",
      "True\n"
     ]
    }
   ],
   "source": [
    "import re\n",
    "def contains_acronym(text):\n",
    "  pattern = r\"\\([A-Z0-9][A-Z0-9a-z]+\\)\"\n",
    "  result = re.search(pattern, text)\n",
    "  return result != None\n",
    "\n",
    "print(contains_acronym(\"Instant messaging (IM) is a set of communication technologies used for text-based communication\")) # True\n",
    "print(contains_acronym(\"American Standard Code for Information Interchange (ASCII) is a character encoding standard for electronic communication\")) # True\n",
    "print(contains_acronym(\"Please do NOT enter without permission!\")) # False\n",
    "print(contains_acronym(\"PostScript is a fourth-generation programming language (4GL)\")) # True\n",
    "print(contains_acronym(\"Have fun using a self-contained underwater breathing apparatus (Scuba)!\")) # True"
   ]
  },
  {
   "cell_type": "markdown",
   "metadata": {},
   "source": [
    "Fill in the code to check if the text passed includes a possible U.S. zip code, formatted as follows: exactly 5 digits, and sometimes, but not always, followed by a dash with 4 more digits. The zip code needs to be preceded by at least one space, and cannot be at the start of the text."
   ]
  },
  {
   "cell_type": "code",
   "execution_count": 5,
   "metadata": {},
   "outputs": [
    {
     "name": "stdout",
     "output_type": "stream",
     "text": [
      "<re.Match object; span=(30, 37), match=' 10001 '>\n",
      "True\n",
      "<re.Match object; span=(28, 35), match=' 11100.'>\n",
      "True\n",
      "<re.Match object; span=(29, 36), match=' 10001 '>\n",
      "True\n",
      "None\n",
      "False\n",
      "None\n",
      "False\n",
      "None\n",
      "False\n",
      "None\n",
      "False\n",
      "None\n",
      "False\n",
      "None\n",
      "False\n"
     ]
    }
   ],
   "source": [
    "import re\n",
    "def check_zip_code (text):\n",
    "  result =  re.search(r\"\\s(\\d{5}[ \\.])|(\\d{5}[-]\\d{4}[^0-9])\", text)\n",
    "  print (result)\n",
    "  return result != None\n",
    "\n",
    "print(check_zip_code(\"The zip codes for New York are 10001 thru 11100.\")) # True\n",
    "print(check_zip_code(\"The zip code for New York is 11100.\")) # True\n",
    "print(check_zip_code(\"The zip codes for New York is 10001 1110.\")) # True\n",
    "print(check_zip_code(\"90210 is a TV show\")) # False\n",
    "print(check_zip_code(\"Their address is: 123 Main Street, Anytown, AZ 85258-4556.\")) # True\n",
    "print(check_zip_code(\"Their address is: 123 Main Street, Anytown, AZ 85258-455.\")) # False\n",
    "print(check_zip_code(\"Their address is: 123 Main Street, Anytown, AZ 85258-45566.\")) # False\n",
    "print(check_zip_code(\"Their address is: 123 Main Street, Anytown, AZ 8525845566.\")) # False\n",
    "print(check_zip_code(\"The Parliament of Canada is at 111 Wellington St, Ottawa, ON K1A0A9.\")) # False"
   ]
  },
  {
   "cell_type": "markdown",
   "metadata": {},
   "source": [
    "Fixed span grab letters"
   ]
  },
  {
   "cell_type": "code",
   "execution_count": 4,
   "metadata": {},
   "outputs": [
    {
     "name": "stdout",
     "output_type": "stream",
     "text": [
      "['Scary', 'ghost']\n",
      "True\n"
     ]
    }
   ],
   "source": [
    "import re\n",
    "def txt_find1 (text):\n",
    "  result =  re.findall(r\"\\b[a-zA-Z]{5}\\b\", text)\n",
    "  print (result)\n",
    "  return result != None\n",
    "\n",
    "print(txt_find1(\"A Scary ghost appeared\"))"
   ]
  },
  {
   "cell_type": "markdown",
   "metadata": {},
   "source": [
    "not fixed"
   ]
  },
  {
   "cell_type": "code",
   "execution_count": 27,
   "metadata": {},
   "outputs": [
    {
     "name": "stdout",
     "output_type": "stream",
     "text": [
      "['Scary', 'ghost', 'appea']\n",
      "<class 'list'>\n",
      "True\n"
     ]
    }
   ],
   "source": [
    "import re\n",
    "def txt_find1 (text):\n",
    "  result =  re.findall(r\"([a-zA-Z]{5})\", text)\n",
    "  print (result)\n",
    "  return result != None\n",
    "\n",
    "print(txt_find1(\"A Scary ghost appeared\"))"
   ]
  },
  {
   "cell_type": "markdown",
   "metadata": {},
   "source": [
    "We're working with a CSV file, which contains employee information. Each record has a name field, followed by a phone number field, and a role field. The phone number field contains U.S. phone numbers, and needs to be modified to the international format, with \"+1-\" in front of the phone number. Fill in the regular expression, using groups, to use the transform_record function to do that."
   ]
  },
  {
   "cell_type": "code",
   "execution_count": 20,
   "metadata": {},
   "outputs": [
    {
     "name": "stdout",
     "output_type": "stream",
     "text": [
      "Sabrina Green,+1-802-867-5309,System Administrator\n",
      "Eli Jones,+1-684-3481127,IT specialist\n",
      "Melody Daniels,+1-846-687-7436,Programmer\n",
      "Charlie Rivera,+1-698-746-3357,Web Developer\n"
     ]
    }
   ],
   "source": [
    "import re\n",
    "def transform_record(record):\n",
    "  new_record = re.sub(r\"^([\\w ]+),([\\d-]+),([\\w ]+)$\", r\"\\1,+1-\\2,\\3\", record)\n",
    "  return new_record\n",
    "\n",
    "print(transform_record(\"Sabrina Green,802-867-5309,System Administrator\")) \n",
    "# Sabrina Green,+1-802-867-5309,System Administrator\n",
    "\n",
    "print(transform_record(\"Eli Jones,684-3481127,IT specialist\")) \n",
    "# Eli Jones,+1-684-3481127,IT specialist\n",
    "\n",
    "print(transform_record(\"Melody Daniels,846-687-7436,Programmer\")) \n",
    "# Melody Daniels,+1-846-687-7436,Programmer\n",
    "\n",
    "print(transform_record(\"Charlie Rivera,698-746-3357,Web Developer\")) \n",
    "# Charlie Rivera,+1-698-746-3357,Web Developer"
   ]
  },
  {
   "cell_type": "code",
   "execution_count": 10,
   "metadata": {},
   "outputs": [
    {
     "name": "stdout",
     "output_type": "stream",
     "text": [
      "akshay-123@gmail.com\n",
      "akshay-123@gmail.com\n"
     ]
    }
   ],
   "source": [
    "print(re.sub('([a-z]*)@', '\\\\1-123@', \"akshay@gmail.com\"))\n",
    "# aaa-123@xxx.com bbb-123@yyy.com ccc-123@zzz.com\n",
    "\n",
    "print(re.sub('([a-z]*)@', r'\\1-123@', \"akshay@gmail.com\"))\n",
    "# aaa-123@xxx.com bbb-123@yyy.com ccc-123@zzz.com"
   ]
  },
  {
   "cell_type": "markdown",
   "metadata": {},
   "source": [
    "The multi_vowel_words function returns all words with 3 or more consecutive vowels (a, e, i, o, u). Fill in the regular expression to do that."
   ]
  },
  {
   "cell_type": "code",
   "execution_count": 23,
   "metadata": {},
   "outputs": [
    {
     "name": "stdout",
     "output_type": "stream",
     "text": [
      "['beautiful']\n",
      "['Obviously', 'queen', 'courageous', 'gracious']\n",
      "['rambunctious', 'quietly', 'delicious']\n",
      "['queue']\n",
      "[]\n"
     ]
    }
   ],
   "source": [
    "import re\n",
    "def multi_vowel_words(text):\n",
    "  pattern = r\"(\\w+[aeiouAEIOU]{3}\\w+)\"\n",
    "  result = re.findall(pattern, text)\n",
    "  return result\n",
    "\n",
    "print(multi_vowel_words(\"Life is beautiful\")) \n",
    "# ['beautiful']\n",
    "\n",
    "print(multi_vowel_words(\"Obviously, the queen is courageous and gracious.\")) \n",
    "# ['Obviously', 'queen', 'courageous', 'gracious']\n",
    "\n",
    "print(multi_vowel_words(\"The rambunctious children had to sit quietly and await their delicious dinner.\")) \n",
    "# ['rambunctious', 'quietly', 'delicious']\n",
    "\n",
    "print(multi_vowel_words(\"The order of a data queue is First In First Out (FIFO)\")) \n",
    "# ['queue']\n",
    "\n",
    "print(multi_vowel_words(\"Hello world!\")) \n",
    "# []"
   ]
  },
  {
   "cell_type": "markdown",
   "metadata": {},
   "source": [
    "The transform_comments function converts comments in a Python script into those usable by a C compiler. This means looking for text that begins with a hash mark (#) and replacing it with double slashes (//), which is the C single-line comment indicator. For the purpose of this exercise, we'll ignore the possibility of a hash mark embedded inside of a Python command, and assume that it's only used to indicate a comment. We also want to treat repetitive hash marks (##), (###), etc., as a single comment indicator, to be replaced with just (//) and not (#//) or (//#). Fill in the parameters of the substitution method to complete this function:"
   ]
  },
  {
   "cell_type": "code",
   "execution_count": 28,
   "metadata": {},
   "outputs": [
    {
     "name": "stdout",
     "output_type": "stream",
     "text": [
      "// Start of program\n",
      "  number = 0   // Initialize the variable\n",
      "  number += 1   // Increment the variable\n",
      "  return(number)\n"
     ]
    }
   ],
   "source": [
    "import re\n",
    "def transform_comments(line_of_code):\n",
    "  result = re.sub(r\"(#+)\", r\"//\", line_of_code)\n",
    "# That group includes all the hashes which is replaced with a single \"//\"\n",
    "# r\"(#)\" ---> look for a single hash group it\n",
    "# r\"(#+)\" ---> look for a group of hashes nd group them\n",
    "  return result\n",
    "\n",
    "print(transform_comments(\"### Start of program\")) \n",
    "# Should be \"// Start of program\"\n",
    "print(transform_comments(\"  number = 0   ## Initialize the variable\")) \n",
    "# Should be \"  number = 0   // Initialize the variable\"\n",
    "print(transform_comments(\"  number += 1   # Increment the variable\")) \n",
    "# Should be \"  number += 1   // Increment the variable\"\n",
    "print(transform_comments(\"  return(number)\")) \n",
    "# Should be \"  return(number)\""
   ]
  },
  {
   "cell_type": "markdown",
   "metadata": {},
   "source": [
    "The convert_phone_number function checks for a U.S. phone number format: XXX-XXX-XXXX (3 digits followed by a dash, 3 more digits followed by a dash, and 4 digits), and converts it to a more formal format that looks like this: (XXX) XXX-XXXX. Fill in the regular expression to complete this function."
   ]
  },
  {
   "cell_type": "code",
   "execution_count": 29,
   "metadata": {},
   "outputs": [
    {
     "name": "stdout",
     "output_type": "stream",
     "text": [
      "My number is (212) 345-9999.\n",
      "Please call (888) 555-1234\n",
      "123-123-12345\n",
      "Phone number of Buckingham Palace is +44 303 123 7300\n"
     ]
    }
   ],
   "source": [
    "import re\n",
    "def convert_phone_number(phone):\n",
    "  result = re.sub(r\"(\\b\\d{3}\\b)-(\\b\\d{3}\\b)-(\\b\\d{4}\\b)\", r\"(\\1) \\2-\\3\", phone)\n",
    "  return result\n",
    "\n",
    "print(convert_phone_number(\"My number is 212-345-9999.\")) # My number is (212) 345-9999.\n",
    "print(convert_phone_number(\"Please call 888-555-1234\")) # Please call (888) 555-1234\n",
    "print(convert_phone_number(\"123-123-12345\")) # 123-123-12345\n",
    "print(convert_phone_number(\"Phone number of Buckingham Palace is +44 303 123 7300\")) # Phone number of Buckingham Palace is +44 303 123 7300"
   ]
  },
  {
   "cell_type": "code",
   "execution_count": 64,
   "metadata": {},
   "outputs": [
    {
     "name": "stdout",
     "output_type": "stream",
     "text": [
      " email\n",
      "False\n",
      " oren@semmagna.com\n",
      "False\n",
      " flavia@utnisia.net\n",
      "False\n",
      " jackowens@abc.edu\n",
      "False\n",
      " britanni@ut.net\n",
      "False\n",
      " kirknixon@abc.edu\n",
      "False\n",
      " breee@utnisia.net\n",
      "False\n",
      " kirknixon@abc.edu\n",
      "False\n",
      " breee@utnisia.net\n",
      "False\n",
      " oren@semmagna.com\n",
      "False\n",
      " flavia@utnisia.net\n",
      "False\n",
      " jackowens@abc.edu\n",
      "False\n",
      " britanni@ut.net\n",
      "False\n",
      " kirknixon@abc.edu\n",
      "False\n",
      " breee@utnisia.net\n",
      "False\n",
      " kirknixon@abc.edu\n",
      "False\n",
      " breee@utnisia.net\n",
      "False\n"
     ]
    }
   ],
   "source": [
    "import csv\n",
    "import re\n",
    "def contains_domain(address, domain):\n",
    "    print(address)\n",
    "    domain_pattern = r\"[\\w\\.-]+@\"+domain+'$'\n",
    "    if re.match(domain_pattern, address):\n",
    "        return True\n",
    "    return False\n",
    "\n",
    "f = open(\"sample.csv\")\n",
    "csv_f = csv.reader(f)\n",
    "for row in csv_f:\n",
    "    name, email = row\n",
    "    print(contains_domain(email, \"abc.edu\"))"
   ]
  },
  {
   "cell_type": "code",
   "execution_count": 62,
   "metadata": {},
   "outputs": [
    {
     "name": "stdout",
     "output_type": "stream",
     "text": [
      "<re.Match object; span=(0, 17), match='kirknixon@abc.edu'>\n",
      "True\n",
      "kirknixon@abc.edu\n",
      "True\n"
     ]
    }
   ],
   "source": [
    "def domain_check(email, domain):\n",
    "  result =  re.match(r\"[\\w\\.-]+@\"+domain+'$', email)\n",
    "  print (result)\n",
    "  return result != None\n",
    "print(domain_check(\"kirknixon@abc.edu\", \"abc.edu\"))\n",
    "print(contains_domain(\"kirknixon@abc.edu\", \"abc.edu\"))"
   ]
  },
  {
   "cell_type": "code",
   "execution_count": 65,
   "metadata": {},
   "outputs": [
    {
     "name": "stdout",
     "output_type": "stream",
     "text": [
      "kirknixon@xyz.edu\n"
     ]
    }
   ],
   "source": [
    "def replace_domain(address, old_domain, new_domain):\n",
    "    old_domain_pattern = r'' + old_domain + '$'\n",
    "    address = re.sub(r'' + old_domain + '$', new_domain, address)\n",
    "    return address\n",
    "\n",
    "print(replace_domain(\"kirknixon@abc.edu\", \"abc.edu\", \"xyz.edu\"))"
   ]
  },
  {
   "cell_type": "markdown",
   "metadata": {},
   "source": [
    "qwicklab assesment"
   ]
  },
  {
   "cell_type": "code",
   "execution_count": null,
   "metadata": {},
   "outputs": [],
   "source": [
    "#!/usr/bin/env python3\n",
    "\n",
    "import re\n",
    "import csv\n",
    "\n",
    "\n",
    "def contains_domain(address, domain):\n",
    "  \"\"\"Returns True if the email address contains the given,domain,in the domain position, false if not.\"\"\"\n",
    "  domain = r'[\\w\\.-]+@'+domain+'$'\n",
    "  if re.match(domain,address):\n",
    "    return True\n",
    "  return False\n",
    "\n",
    "\n",
    "def replace_domain(address, old_domain, new_domain):\n",
    "  \"\"\"Replaces the old domain with the new domain in the received address.\"\"\"\n",
    "  old_domain_pattern = r'' + old_domain + '$'\n",
    "  address = re.sub(old_domain_pattern, new_domain, address)\n",
    "  return address\n",
    "\n",
    "def main():\n",
    "  \"\"\"Processes the list of emails, replacing any instances of the old domain with the new domain.\"\"\"\n",
    "  old_domain, new_domain = 'abc.edu', 'xyz.edu'\n",
    "  csv_file_location = '<csv_file_location>'\n",
    "  report_file = '<path_to_home_directory>' + '/updated_user_emails.csv'\n",
    "  user_email_list = []\n",
    "  old_domain_email_list = []\n",
    "  new_domain_email_list = []\n",
    "\n",
    "  with open(csv_file_location, 'r') as f:\n",
    "    user_data_list = list(csv.reader(f))\n",
    "    user_email_list = [data[1].strip() for data in user_data_list[1:]]\n",
    "\n",
    "    for email_address in user_email_list:\n",
    "      if contains_domain(email_address, old_domain):\n",
    "        old_domain_email_list.append(email_address)\n",
    "        replaced_email = replace_domain(email_address,old_domain,new_domain)\n",
    "        new_domain_email_list.append(replaced_email)\n",
    "\n",
    "    email_key = ' ' + 'Email Address'\n",
    "    email_index = user_data_list[0].index(email_key)\n",
    "\n",
    "    for user in user_data_list[1:]:\n",
    "      for old_domain, new_domain in zip(old_domain_email_list, new_domain_email_list):\n",
    "        if user[email_index] == ' ' + old_domain:\n",
    "          user[email_index] = ' ' + new_domain\n",
    "  f.close()\n",
    "\n",
    "  with open(report_file, 'w+') as output_file:\n",
    "    writer = csv.writer(output_file)\n",
    "    writer.writerows(user_data_list)\n",
    "    output_file.close()\n",
    "  \n",
    "main()"
   ]
  }
 ],
 "metadata": {
  "kernelspec": {
   "display_name": "Python 3",
   "language": "python",
   "name": "python3"
  },
  "language_info": {
   "codemirror_mode": {
    "name": "ipython",
    "version": 3
   },
   "file_extension": ".py",
   "mimetype": "text/x-python",
   "name": "python",
   "nbconvert_exporter": "python",
   "pygments_lexer": "ipython3",
   "version": "3.7.4"
  }
 },
 "nbformat": 4,
 "nbformat_minor": 4
}

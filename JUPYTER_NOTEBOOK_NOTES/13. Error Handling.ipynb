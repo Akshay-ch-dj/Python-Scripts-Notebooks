{
 "cells": [
  {
   "cell_type": "markdown",
   "metadata": {},
   "source": [
    "Error Handling\n"
   ]
  },
  {
   "cell_type": "code",
   "execution_count": 1,
   "metadata": {},
   "outputs": [
    {
     "name": "stdout",
     "output_type": "stream",
     "text": [
      "All went well!\n",
      "20\n"
     ]
    }
   ],
   "source": [
    "try:\n",
    "    result = 10 + 10\n",
    "except:\n",
    "    print (\"Hey it looks like you arn't adding correctly\")\n",
    "else:\n",
    "    print (\"All went well!\")\n",
    "    print (result)"
   ]
  },
  {
   "cell_type": "code",
   "execution_count": 2,
   "metadata": {},
   "outputs": [
    {
     "data": {
      "text/plain": [
       "20"
      ]
     },
     "execution_count": 2,
     "metadata": {},
     "output_type": "execute_result"
    }
   ],
   "source": [
    "result"
   ]
  },
  {
   "cell_type": "code",
   "execution_count": 3,
   "metadata": {},
   "outputs": [
    {
     "name": "stdout",
     "output_type": "stream",
     "text": [
      " I always run\n"
     ]
    }
   ],
   "source": [
    "try:\n",
    "    f = open( 'testfile', 'w')\n",
    "    f.write ( \" Write a test line\")\n",
    "except TypeError:\n",
    "    print (\" There was a typeError\")\n",
    "except OSError:\n",
    "    print (\"There was an OSError\")\n",
    "except:\n",
    "    print (\"All other exceptions\")\n",
    "finally:\n",
    "    print (\" I always run\")\n",
    "    "
   ]
  },
  {
   "cell_type": "markdown",
   "metadata": {},
   "source": [
    "INSIDE A FUNCTION\n"
   ]
  },
  {
   "cell_type": "code",
   "execution_count": 4,
   "metadata": {},
   "outputs": [],
   "source": [
    "def ask_for_int ():\n",
    "    \n",
    "    while True:\n",
    "        try:\n",
    "            result = int(input(\"PLease provide number:\"))\n",
    "        except:\n",
    "            print (\"Whoopps! that is not a fucknn number\")\n",
    "            continue\n",
    "        else:\n",
    "            print (\"Yes thank You!\")\n",
    "            break\n",
    "        finally:\n",
    "            print (\"End of try/except/finally\")\n",
    "            print (\"I will always run at the end!\")"
   ]
  },
  {
   "cell_type": "code",
   "execution_count": 5,
   "metadata": {},
   "outputs": [
    {
     "name": "stdout",
     "output_type": "stream",
     "text": [
      "PLease provide number:20\n",
      "Yes thank You!\n",
      "End of try/except/finally\n",
      "I will always run at the end!\n"
     ]
    }
   ],
   "source": [
    "ask_for_int ()"
   ]
  },
  {
   "cell_type": "code",
   "execution_count": null,
   "metadata": {},
   "outputs": [],
   "source": []
  },
  {
   "cell_type": "code",
   "execution_count": null,
   "metadata": {},
   "outputs": [],
   "source": []
  }
 ],
 "metadata": {
  "kernelspec": {
   "display_name": "Python 3",
   "language": "python",
   "name": "python3"
  },
  "language_info": {
   "codemirror_mode": {
    "name": "ipython",
    "version": 3
   },
   "file_extension": ".py",
   "mimetype": "text/x-python",
   "name": "python",
   "nbconvert_exporter": "python",
   "pygments_lexer": "ipython3",
   "version": "3.7.3"
  }
 },
 "nbformat": 4,
 "nbformat_minor": 2
}

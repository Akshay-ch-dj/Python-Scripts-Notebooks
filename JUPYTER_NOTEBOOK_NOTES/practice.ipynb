{
 "metadata": {
  "language_info": {
   "codemirror_mode": {
    "name": "ipython",
    "version": 3
   },
   "file_extension": ".py",
   "mimetype": "text/x-python",
   "name": "python",
   "nbconvert_exporter": "python",
   "pygments_lexer": "ipython3",
   "version": "3.8.6-final"
  },
  "orig_nbformat": 2,
  "kernelspec": {
   "name": "python3",
   "display_name": "Python 3.8.6 64-bit",
   "metadata": {
    "interpreter": {
     "hash": "604522f1918a4f70ab804f3225c4c25389e7cf7d629ed4133598ebf924cdb86e"
    }
   }
  }
 },
 "nbformat": 4,
 "nbformat_minor": 2,
 "cells": [
  {
   "cell_type": "code",
   "execution_count": 5,
   "metadata": {
    "tags": []
   },
   "outputs": [
    {
     "output_type": "stream",
     "name": "stdout",
     "text": "1\n"
    }
   ],
   "source": [
    "myList = [1, 2, 3]\n",
    "print(myList[-3])"
   ]
  },
  {
   "cell_type": "code",
   "execution_count": 6,
   "metadata": {},
   "outputs": [
    {
     "output_type": "execute_result",
     "data": {
      "text/plain": "25646"
     },
     "metadata": {},
     "execution_count": 6
    }
   ],
   "source": [
    "def sum(a, b):\n",
    "    return a+b\n",
    "    \n",
    "sum(12654, 12992)\n"
   ]
  },
  {
   "cell_type": "code",
   "execution_count": 12,
   "metadata": {
    "tags": []
   },
   "outputs": [
    {
     "output_type": "stream",
     "name": "stdout",
     "text": "22141\n"
    }
   ],
   "source": [
    "def sumInLoop(n, sumList):\n",
    "    sum = 0\n",
    "    for num in sumList:\n",
    "        sum+=int(num)\n",
    "    return sum\n",
    "\n",
    "    \n",
    "\n",
    "sumList = \"1088 923 993 1254 804 1136 567 1121 1029 310 700 581 200 278 531 268 1221 719 1253 1041 30 1182 46 416 844 824 276 624 1035 161 686\".split()\n",
    "\n",
    "print(sumInLoop(31, sumList))"
   ]
  },
  {
   "cell_type": "markdown",
   "metadata": {},
   "source": [
    "Now we are given several pairs of values and we want to calculate sum for each pair.\n",
    "\n",
    "Input data will contain the total count of pairs to process in the first line.\n",
    "The following lines will contain pairs themselves - one pair at each line.\n",
    "Answer should contain the results separated by spaces.\n",
    "\n",
    "11\n",
    "492809 258078\n",
    "429883 437021\n",
    "547343 176995\n",
    "883233 999130\n",
    "195142 184562\n",
    "278519 456569\n",
    "814801 583917\n",
    "570533 148749\n",
    "185259 318852\n",
    "458834 25373\n",
    "931237 453471"
   ]
  },
  {
   "cell_type": "code",
   "execution_count": 1,
   "metadata": {
    "tags": []
   },
   "outputs": [
    {
     "output_type": "stream",
     "name": "stdout",
     "text": [
      "750887 866904 724338 1882363 379704 735088 1398718 719282 504111 484207 1384708\n"
     ]
    }
   ],
   "source": [
    "# assuming the data as srings 11 pair(total 24 values).\n",
    "\n",
    "n = 11\n",
    "\n",
    "data = \"492809 258078 429883 437021 547343 176995 883233 999130 195142 184562 278519 456569 814801 583917 570533 148749 185259 318852 458834 25373 931237 453471\"\n",
    "\n",
    "def sumsInLoop(n, data):\n",
    "    dataList = [int(num) for num in data.split()]\n",
    "    sumList = [dataList[i]+dataList[i+1] for i in range(0,2*n,2)]\n",
    "    return ' '.join([str(number) for number in sumList])\n",
    "\n",
    "print(sumsInLoop(n, data))\n"
   ]
  },
  {
   "cell_type": "code",
   "execution_count": 26,
   "metadata": {
    "tags": []
   },
   "outputs": [
    {
     "output_type": "stream",
     "name": "stdout",
     "text": "9852\n"
    }
   ],
   "source": [
    "def descending_order(num):\n",
    "    # Bust a move right here\n",
    "    digit = ''.join(sorted([n for n in str(num)], reverse=True))\n",
    "    print(digit)\n",
    "descending_order(2589)"
   ]
  },
  {
   "cell_type": "code",
   "execution_count": 43,
   "metadata": {
    "tags": []
   },
   "outputs": [
    {
     "output_type": "stream",
     "name": "stdout",
     "text": "542 -214\n"
    }
   ],
   "source": [
    "def high_and_low(numbers):\n",
    "    # ...\n",
    "    numbers = sorted([int(n) for n in numbers.split()], reverse=True)\n",
    "    numbers = ' '.join([str(numbers[0]), str(numbers[-1])])\n",
    "    return numbers\n",
    "print(high_and_low(\"4 5 29 54 4 0 -214 542 -64 1 -3 6 -6\"))"
   ]
  },
  {
   "cell_type": "code",
   "execution_count": 45,
   "metadata": {
    "tags": []
   },
   "outputs": [
    {
     "output_type": "stream",
     "name": "stdout",
     "text": "542 -214\n"
    }
   ],
   "source": [
    "def high_and_low(numbers):\n",
    "    numbers = [int(n) for n in numbers.split()]\n",
    "    numbers = f'{max(numbers)} {min(numbers)}'\n",
    "    return numbers\n",
    "print(high_and_low(\"4 5 29 54 4 0 -214 542 -64 1 -3 6 -6\"))"
   ]
  },
  {
   "cell_type": "code",
   "execution_count": 21,
   "metadata": {
    "tags": []
   },
   "outputs": [
    {
     "output_type": "stream",
     "name": "stdout",
     "text": "10,000\n"
    }
   ],
   "source": [
    "def rupeeCommaInsert(num):\n",
    "    myList = list(str(num))\n",
    "    i = len(myList) - 3\n",
    "\n",
    "    while(i > 0):\n",
    "        myList.insert(i, ',')\n",
    "        i -= 2\n",
    "\n",
    "    return ''.join(myList)\n",
    "print(rupeeCommaInsert(10000))\n"
   ]
  },
  {
   "cell_type": "code",
   "execution_count": 24,
   "metadata": {
    "tags": []
   },
   "outputs": [
    {
     "output_type": "stream",
     "name": "stdout",
     "text": "5,000\n"
    }
   ],
   "source": [
    "def rupeeCommaInsert(num):\n",
    "    myList = list(str(num))\n",
    "\n",
    "    for i in range(len(myList) - 3, 0, -2):\n",
    "        myList.insert(i, ',')\n",
    "    # i = len(myList) - 3\n",
    "\n",
    "    # while(i > 0):\n",
    "        \n",
    "    #     i -= 2\n",
    "    return ''.join(myList)\n",
    "\n",
    "\n",
    "print(rupeeCommaInsert(5000))"
   ]
  },
  {
   "cell_type": "code",
   "execution_count": 50,
   "metadata": {
    "tags": []
   },
   "outputs": [
    {
     "output_type": "execute_result",
     "data": {
      "text/plain": "False"
     },
     "metadata": {},
     "execution_count": 50
    }
   ],
   "source": [
    "def is_square(n):\n",
    "    return n >= 0 and (n ** (1/2)) == int(n ** (1/2))\n",
    "    # print(type(n ** (1/2)))\n",
    "    # print(int(n ** (1/2)))\n",
    "    # print(n ** (1/2) - int(n ** (1/2)))\n",
    "    # return n ** (1/2)\n",
    "\n",
    "# is_square(0)\n",
    "# is_square(25)\n",
    "# is_square(26)\n",
    "# is_square(-1)\n",
    "# is_square(3)"
   ]
  },
  {
   "cell_type": "code",
   "execution_count": 65,
   "metadata": {
    "tags": []
   },
   "outputs": [
    {
     "output_type": "execute_result",
     "data": {
      "text/plain": "'R-Qq-Aaa-Eeee-Zzzzz-Tttttt-Yyyyyyy'"
     },
     "metadata": {},
     "execution_count": 65
    }
   ],
   "source": [
    "def accum(s):\n",
    "    return '-'.join([(letter.upper() + letter.lower()*index) for index, letter in enumerate(list(s))])\n",
    "\n",
    "accum(\"abcd\")  # -> \"A-Bb-Ccc-Dddd\"\n",
    "accum(\"RqaEzty\")  # -> \"R-Qq-Aaa-Eeee-Zzzzz-Tttttt-Yyyyyyy\"\n",
    "# accum(\"cwAt\")  # -> \"C-Ww-Aaa-Tttt\""
   ]
  },
  {
   "cell_type": "code",
   "execution_count": 1,
   "metadata": {
    "tags": []
   },
   "outputs": [
    {
     "output_type": "stream",
     "name": "stdout",
     "text": "5.0\n"
    }
   ],
   "source": [
    "x = 10\n",
    "\n",
    "x = x / 2\n",
    "\n",
    "print(x)"
   ]
  },
  {
   "cell_type": "code",
   "execution_count": 2,
   "metadata": {
    "tags": []
   },
   "outputs": [
    {
     "output_type": "stream",
     "name": "stdout",
     "text": "2.5\n"
    }
   ],
   "source": [
    "x /= 2\n",
    "\n",
    "print(x)"
   ]
  },
  {
   "cell_type": "code",
   "execution_count": 12,
   "metadata": {
    "tags": []
   },
   "outputs": [
    {
     "output_type": "stream",
     "name": "stdout",
     "text": "1\n"
    }
   ],
   "source": [
    "x = 9\n",
    "\n",
    "x //= 5\n",
    "\n",
    "print(x)"
   ]
  },
  {
   "cell_type": "code",
   "execution_count": 15,
   "metadata": {},
   "outputs": [],
   "source": [
    "def your_age(age):\n",
    "    return f\"You are {age} years old!\"\n",
    "\n",
    "answer = your_age(46)\n",
    "file_name = input(\"Enter a file name:\")\n",
    "file_name = f\"{file_name}.py\"\n",
    "with open(file_name, \"w\") as f:\n",
    "    f.write(f\"print(\\\"{answer}\\\")\")\n",
    "    f.close()"
   ]
  },
  {
   "cell_type": "code",
   "execution_count": 4,
   "metadata": {},
   "outputs": [
    {
     "output_type": "execute_result",
     "data": {
      "text/plain": "&#39;You are 32 years old&#39;"
     },
     "metadata": {},
     "execution_count": 4
    }
   ],
   "source": [
    "your_age(32)"
   ]
  },
  {
   "cell_type": "code",
   "execution_count": 4,
   "metadata": {},
   "outputs": [
    {
     "output_type": "stream",
     "name": "stdout",
     "text": [
      "4 9 56\n"
     ]
    }
   ],
   "source": [
    "myList = [2, 4, 5, 7, 9]\n",
    "\n",
    "for num in myList:\n",
    "    temp = 9\n",
    "    if num > 2:\n",
    "        temp2 = 56\n",
    "        break\n",
    "\n",
    "print(num, temp, temp2)\n"
   ]
  },
  {
   "cell_type": "code",
   "execution_count": null,
   "metadata": {},
   "outputs": [],
   "source": []
  },
  {
   "cell_type": "code",
   "execution_count": 2,
   "metadata": {},
   "outputs": [
    {
     "output_type": "stream",
     "name": "stdout",
     "text": [
      "{'name': 'Babu', 'num': 32}\n{'name': 'Babu', 'num': 32}\n"
     ]
    }
   ],
   "source": [
    "myDIct = {\n",
    "    'name': 'Akshay',\n",
    "    'num': 32\n",
    "}\n",
    "\n",
    "myNewDict = myDIct\n",
    "\n",
    "myNewDict['name'] = 'Babu'\n",
    "\n",
    "print(myDIct)\n",
    "print(myNewDict)"
   ]
  },
  {
   "cell_type": "code",
   "execution_count": 17,
   "metadata": {},
   "outputs": [
    {
     "output_type": "execute_result",
     "data": {
      "text/plain": [
       "2"
      ]
     },
     "metadata": {},
     "execution_count": 17
    }
   ],
   "source": [
    "def diagonalDifference(arr):\n",
    "    s1, s2 = 0, 0\n",
    "    for i in range(3):\n",
    "        s1 += arr[i][i]\n",
    "        s2 += arr[i][2-i]\n",
    "    return abs(s1 - s2)\n",
    "diagonalDifference([[1, 2, 3], [4, 5, 6], [9, 8, 9]])\n"
   ]
  },
  {
   "cell_type": "code",
   "execution_count": 21,
   "metadata": {},
   "outputs": [
    {
     "output_type": "stream",
     "name": "stdout",
     "text": [
      "0.5\n0.333333\n0.166667\n"
     ]
    }
   ],
   "source": [
    "def plusMinus(arr):\n",
    "    count = {'pos':0, 'neg':0, 'zero': 0}\n",
    "    for n in arr:\n",
    "        if n > 0:\n",
    "            count['pos'] += 1\n",
    "        elif n < 0:\n",
    "            count['neg'] += 1\n",
    "        else:\n",
    "            count['zero'] += 1\n",
    "    l = len(arr)\n",
    "    print('{:6f}\\n{:6f}\\n{:6f}'.format(count['pos']/l, count['neg']/l, count['zero']/l))\n",
    "plusMinus([-4, 3, -9, 0, 4, 1])"
   ]
  },
  {
   "cell_type": "code",
   "execution_count": 3,
   "metadata": {},
   "outputs": [
    {
     "output_type": "stream",
     "name": "stdout",
     "text": [
      "0.500000\n0.333333\n0.166667\n"
     ]
    }
   ],
   "source": [
    "def plusMinus(arr):\n",
    "    count = {'pos':0, 'neg':0, 'zero': 0}\n",
    "    for n in arr:\n",
    "        if n > 0:\n",
    "            count['pos'] += 1\n",
    "        elif n < 0:\n",
    "            count['neg'] += 1\n",
    "        else:\n",
    "            count['zero'] += 1\n",
    "    l = len(arr)\n",
    "    print(f'{count[\"pos\"]/l:6f}\\n{count[\"neg\"]/l:6f}\\n{count[\"zero\"]/l:6f}')\n",
    "plusMinus([-4, 3, -9, 0, 4, 1])"
   ]
  },
  {
   "source": [
    "Using zfill(), which sililar to add padding padleft and padright methods in JS., there is also rjust and ljust methods similar,\n",
    "\n",
    "Also there is simple pythonic approach"
   ],
   "cell_type": "markdown",
   "metadata": {}
  },
  {
   "cell_type": "code",
   "execution_count": 16,
   "metadata": {},
   "outputs": [
    {
     "output_type": "stream",
     "name": "stdout",
     "text": [
      "00004\n00004\n40000\n00004\n00004\n"
     ]
    }
   ],
   "source": [
    "print('4'.zfill(5))\n",
    "print('4'.rjust(5, '0'))\n",
    "print('4'.ljust(5, '0'))\n",
    "# pythonic\n",
    "print(f'{\"4\":0>5}')\n",
    "# for number\n",
    "print(f'{4:05}')"
   ]
  },
  {
   "cell_type": "code",
   "execution_count": 2,
   "metadata": {},
   "outputs": [
    {
     "output_type": "error",
     "ename": "SyntaxError",
     "evalue": "invalid syntax (<ipython-input-2-e2ade71eb324>, line 1)",
     "traceback": [
      "\u001b[1;36m  File \u001b[1;32m\"<ipython-input-2-e2ade71eb324>\"\u001b[1;36m, line \u001b[1;32m1\u001b[0m\n\u001b[1;33m    def staircase(1, n):\u001b[0m\n\u001b[1;37m                  ^\u001b[0m\n\u001b[1;31mSyntaxError\u001b[0m\u001b[1;31m:\u001b[0m invalid syntax\n"
     ]
    }
   ],
   "source": [
    "def staircase(1, n):\n",
    "    for i in range(n + 1):\n",
    "        print('#'.zfill())"
   ]
  },
  {
   "cell_type": "code",
   "execution_count": 7,
   "metadata": {},
   "outputs": [
    {
     "output_type": "stream",
     "name": "stdout",
     "text": [
      "{'A': 6, 'B': 7, 'C': 103}\n"
     ]
    }
   ],
   "source": [
    "my_dict = {\"A\": [1, 2, 3], \"B\": [9, -4, 2], \"C\": [3, 99, 1]}\n",
    "\n",
    "# res = {key : sum(my_dict[key]) for key in my_dict.keys()}\n",
    "\n",
    "# res = {key : sum(val) for key, val in my_dict.items()}\n",
    "\n",
    "# res = dict(zip(my_dict.keys(), [sum(val) for val in my_dict.values()]))\n",
    "print(res)"
   ]
  },
  {
   "cell_type": "code",
   "execution_count": null,
   "metadata": {},
   "outputs": [],
   "source": []
  }
 ]
}
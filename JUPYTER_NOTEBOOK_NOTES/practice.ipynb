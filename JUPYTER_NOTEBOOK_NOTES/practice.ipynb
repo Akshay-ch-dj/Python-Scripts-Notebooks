{
 "metadata": {
  "language_info": {
   "codemirror_mode": {
    "name": "ipython",
    "version": 3
   },
   "file_extension": ".py",
   "mimetype": "text/x-python",
   "name": "python",
   "nbconvert_exporter": "python",
   "pygments_lexer": "ipython3",
   "version": "3.8.5-final"
  },
  "orig_nbformat": 2,
  "kernelspec": {
   "name": "Python 3.8.5 64-bit",
   "display_name": "Python 3.8.5 64-bit",
   "metadata": {
    "interpreter": {
     "hash": "604522f1918a4f70ab804f3225c4c25389e7cf7d629ed4133598ebf924cdb86e"
    }
   }
  }
 },
 "nbformat": 4,
 "nbformat_minor": 2,
 "cells": [
  {
   "cell_type": "code",
   "execution_count": 5,
   "metadata": {
    "tags": []
   },
   "outputs": [
    {
     "output_type": "stream",
     "name": "stdout",
     "text": "1\n"
    }
   ],
   "source": [
    "myList = [1, 2, 3]\n",
    "print(myList[-3])"
   ]
  },
  {
   "cell_type": "code",
   "execution_count": 6,
   "metadata": {},
   "outputs": [
    {
     "output_type": "execute_result",
     "data": {
      "text/plain": "25646"
     },
     "metadata": {},
     "execution_count": 6
    }
   ],
   "source": [
    "def sum(a, b):\n",
    "    return a+b\n",
    "    \n",
    "sum(12654, 12992)\n"
   ]
  },
  {
   "cell_type": "code",
   "execution_count": 12,
   "metadata": {
    "tags": []
   },
   "outputs": [
    {
     "output_type": "stream",
     "name": "stdout",
     "text": "22141\n"
    }
   ],
   "source": [
    "def sumInLoop(n, sumList):\n",
    "    sum = 0\n",
    "    for num in sumList:\n",
    "        sum+=int(num)\n",
    "    return sum\n",
    "\n",
    "    \n",
    "\n",
    "sumList = \"1088 923 993 1254 804 1136 567 1121 1029 310 700 581 200 278 531 268 1221 719 1253 1041 30 1182 46 416 844 824 276 624 1035 161 686\".split()\n",
    "\n",
    "print(sumInLoop(31, sumList))"
   ]
  },
  {
   "cell_type": "markdown",
   "metadata": {},
   "source": [
    "Now we are given several pairs of values and we want to calculate sum for each pair.\n",
    "\n",
    "Input data will contain the total count of pairs to process in the first line.\n",
    "The following lines will contain pairs themselves - one pair at each line.\n",
    "Answer should contain the results separated by spaces.\n",
    "\n",
    "11\n",
    "492809 258078\n",
    "429883 437021\n",
    "547343 176995\n",
    "883233 999130\n",
    "195142 184562\n",
    "278519 456569\n",
    "814801 583917\n",
    "570533 148749\n",
    "185259 318852\n",
    "458834 25373\n",
    "931237 453471"
   ]
  },
  {
   "cell_type": "code",
   "execution_count": 29,
   "metadata": {
    "tags": []
   },
   "outputs": [
    {
     "output_type": "stream",
     "name": "stdout",
     "text": "750887 866904 724338 1882363 379704 735088 1398718 719282 504111 484207 1384708\n"
    }
   ],
   "source": [
    "# assuming the data as srings 11 pair(total 24 values).\n",
    "\n",
    "n = 11\n",
    "\n",
    "data = \"492809 258078 429883 437021 547343 176995 883233 999130 195142 184562 278519 456569 814801 583917 570533 148749 185259 318852 458834 25373 931237 453471\"\n",
    "\n",
    "def sumsInLoop(n, data):\n",
    "    dataList = [int(num) for num in data.split()]\n",
    "    sumList = [dataList[i]+dataList[i+1] for i in range(0,2*n,2)]\n",
    "    return ' '.join([str(number) for number in sumList])\n",
    "\n",
    "print(sumsInLoop(n, data))\n"
   ]
  },
  {
   "cell_type": "code",
   "execution_count": 26,
   "metadata": {
    "tags": []
   },
   "outputs": [
    {
     "output_type": "stream",
     "name": "stdout",
     "text": "9852\n"
    }
   ],
   "source": [
    "def descending_order(num):\n",
    "    # Bust a move right here\n",
    "    digit = ''.join(sorted([n for n in str(num)], reverse=True))\n",
    "    print(digit)\n",
    "descending_order(2589)"
   ]
  },
  {
   "cell_type": "code",
   "execution_count": 43,
   "metadata": {
    "tags": []
   },
   "outputs": [
    {
     "output_type": "stream",
     "name": "stdout",
     "text": "542 -214\n"
    }
   ],
   "source": [
    "def high_and_low(numbers):\n",
    "    # ...\n",
    "    numbers = sorted([int(n) for n in numbers.split()], reverse=True)\n",
    "    numbers = ' '.join([str(numbers[0]), str(numbers[-1])])\n",
    "    return numbers\n",
    "print(high_and_low(\"4 5 29 54 4 0 -214 542 -64 1 -3 6 -6\"))"
   ]
  },
  {
   "cell_type": "code",
   "execution_count": 45,
   "metadata": {
    "tags": []
   },
   "outputs": [
    {
     "output_type": "stream",
     "name": "stdout",
     "text": "542 -214\n"
    }
   ],
   "source": [
    "def high_and_low(numbers):\n",
    "    numbers = [int(n) for n in numbers.split()]\n",
    "    numbers = f'{max(numbers)} {min(numbers)}'\n",
    "    return numbers\n",
    "print(high_and_low(\"4 5 29 54 4 0 -214 542 -64 1 -3 6 -6\"))"
   ]
  },
  {
   "cell_type": "code",
   "execution_count": 21,
   "metadata": {
    "tags": []
   },
   "outputs": [
    {
     "output_type": "stream",
     "name": "stdout",
     "text": "10,000\n"
    }
   ],
   "source": [
    "def rupeeCommaInsert(num):\n",
    "    myList = list(str(num))\n",
    "    i = len(myList) - 3\n",
    "\n",
    "    while(i > 0):\n",
    "        myList.insert(i, ',')\n",
    "        i -= 2\n",
    "\n",
    "    return ''.join(myList)\n",
    "print(rupeeCommaInsert(10000))\n"
   ]
  },
  {
   "cell_type": "code",
   "execution_count": 24,
   "metadata": {
    "tags": []
   },
   "outputs": [
    {
     "output_type": "stream",
     "name": "stdout",
     "text": "5,000\n"
    }
   ],
   "source": [
    "def rupeeCommaInsert(num):\n",
    "    myList = list(str(num))\n",
    "\n",
    "    for i in range(len(myList) - 3, 0, -2):\n",
    "        myList.insert(i, ',')\n",
    "    # i = len(myList) - 3\n",
    "\n",
    "    # while(i > 0):\n",
    "        \n",
    "    #     i -= 2\n",
    "    return ''.join(myList)\n",
    "\n",
    "\n",
    "print(rupeeCommaInsert(5000))"
   ]
  },
  {
   "cell_type": "code",
   "execution_count": 50,
   "metadata": {
    "tags": []
   },
   "outputs": [
    {
     "output_type": "execute_result",
     "data": {
      "text/plain": "False"
     },
     "metadata": {},
     "execution_count": 50
    }
   ],
   "source": [
    "def is_square(n):\n",
    "    return n >= 0 and (n ** (1/2)) == int(n ** (1/2))\n",
    "    # print(type(n ** (1/2)))\n",
    "    # print(int(n ** (1/2)))\n",
    "    # print(n ** (1/2) - int(n ** (1/2)))\n",
    "    # return n ** (1/2)\n",
    "\n",
    "# is_square(0)\n",
    "# is_square(25)\n",
    "# is_square(26)\n",
    "# is_square(-1)\n",
    "# is_square(3)"
   ]
  },
  {
   "cell_type": "code",
   "execution_count": 65,
   "metadata": {
    "tags": []
   },
   "outputs": [
    {
     "output_type": "execute_result",
     "data": {
      "text/plain": "'R-Qq-Aaa-Eeee-Zzzzz-Tttttt-Yyyyyyy'"
     },
     "metadata": {},
     "execution_count": 65
    }
   ],
   "source": [
    "def accum(s):\n",
    "    return '-'.join([(letter.upper() + letter.lower()*index) for index, letter in enumerate(list(s))])\n",
    "\n",
    "accum(\"abcd\")  # -> \"A-Bb-Ccc-Dddd\"\n",
    "accum(\"RqaEzty\")  # -> \"R-Qq-Aaa-Eeee-Zzzzz-Tttttt-Yyyyyyy\"\n",
    "# accum(\"cwAt\")  # -> \"C-Ww-Aaa-Tttt\""
   ]
  },
  {
   "cell_type": "code",
   "execution_count": 1,
   "metadata": {
    "tags": []
   },
   "outputs": [
    {
     "output_type": "stream",
     "name": "stdout",
     "text": "5.0\n"
    }
   ],
   "source": [
    "x = 10\n",
    "\n",
    "x = x / 2\n",
    "\n",
    "print(x)"
   ]
  },
  {
   "cell_type": "code",
   "execution_count": 2,
   "metadata": {
    "tags": []
   },
   "outputs": [
    {
     "output_type": "stream",
     "name": "stdout",
     "text": "2.5\n"
    }
   ],
   "source": [
    "x /= 2\n",
    "\n",
    "print(x)"
   ]
  },
  {
   "cell_type": "code",
   "execution_count": 12,
   "metadata": {
    "tags": []
   },
   "outputs": [
    {
     "output_type": "stream",
     "name": "stdout",
     "text": "1\n"
    }
   ],
   "source": [
    "x = 9\n",
    "\n",
    "x //= 5\n",
    "\n",
    "print(x)"
   ]
  },
  {
   "cell_type": "code",
   "execution_count": 15,
   "metadata": {},
   "outputs": [],
   "source": [
    "def your_age(age):\n",
    "    return f\"You are {age} years old!\"\n",
    "\n",
    "answer = your_age(46)\n",
    "file_name = input(\"Enter a file name:\")\n",
    "file_name = f\"{file_name}.py\"\n",
    "with open(file_name, \"w\") as f:\n",
    "    f.write(f\"print(\\\"{answer}\\\")\")\n",
    "    f.close()"
   ]
  },
  {
   "cell_type": "code",
   "execution_count": 4,
   "metadata": {},
   "outputs": [
    {
     "output_type": "execute_result",
     "data": {
      "text/plain": "&#39;You are 32 years old&#39;"
     },
     "metadata": {},
     "execution_count": 4
    }
   ],
   "source": [
    "your_age(32)"
   ]
  },
  {
   "cell_type": "code",
   "execution_count": null,
   "metadata": {},
   "outputs": [],
   "source": []
  }
 ]
}
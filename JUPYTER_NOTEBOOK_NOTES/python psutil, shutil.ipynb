{
 "cells": [
  {
   "cell_type": "code",
   "execution_count": 2,
   "metadata": {},
   "outputs": [
    {
     "data": {
      "text/plain": [
       "svmem(total=4228169728, available=902066176, percent=78.7, used=3326103552, free=902066176)"
      ]
     },
     "execution_count": 2,
     "metadata": {},
     "output_type": "execute_result"
    }
   ],
   "source": [
    "import psutil\n",
    "\n",
    "psutil.virtual_memory()\n"
   ]
  },
  {
   "cell_type": "code",
   "execution_count": 4,
   "metadata": {},
   "outputs": [
    {
     "name": "stdout",
     "output_type": "stream",
     "text": [
      "['C:\\\\Users\\\\User1\\\\Anaconda3\\\\lib\\\\site-packages\\\\ipykernel_launcher.py', '-f', 'C:\\\\Users\\\\User1\\\\AppData\\\\Roaming\\\\jupyter\\\\runtime\\\\kernel-557652b8-4af7-49f8-9ce0-32ff361aed99.json']\n"
     ]
    }
   ],
   "source": [
    "import sys\n",
    "print(sys.argv)\n"
   ]
  },
  {
   "cell_type": "code",
   "execution_count": 11,
   "metadata": {},
   "outputs": [
    {
     "name": "stdout",
     "output_type": "stream",
     "text": [
      "0.6814155578613281\n"
     ]
    }
   ],
   "source": [
    "# fun. to check the memory usage is below the limit\n",
    "def check_memory(min_ram):\n",
    "    mu = psutil.virtual_memory()\n",
    "    # memory in GB\n",
    "    GB_mem_free = mu.available/(2**30)\n",
    "    \n",
    "    if GB_mem_free < min_ram:\n",
    "        return True\n",
    "    return False\n",
    "\n",
    "check_memory(0.5)"
   ]
  },
  {
   "cell_type": "code",
   "execution_count": null,
   "metadata": {},
   "outputs": [],
   "source": []
  }
 ],
 "metadata": {
  "kernelspec": {
   "display_name": "Python 3",
   "language": "python",
   "name": "python3"
  },
  "language_info": {
   "codemirror_mode": {
    "name": "ipython",
    "version": 3
   },
   "file_extension": ".py",
   "mimetype": "text/x-python",
   "name": "python",
   "nbconvert_exporter": "python",
   "pygments_lexer": "ipython3",
   "version": "3.7.4"
  }
 },
 "nbformat": 4,
 "nbformat_minor": 4
}

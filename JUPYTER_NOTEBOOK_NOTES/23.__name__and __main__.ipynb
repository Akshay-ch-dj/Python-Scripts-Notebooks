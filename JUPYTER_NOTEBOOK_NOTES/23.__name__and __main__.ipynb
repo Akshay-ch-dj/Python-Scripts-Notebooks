{
 "metadata": {
  "language_info": {
   "codemirror_mode": {
    "name": "ipython",
    "version": 3
   },
   "file_extension": ".py",
   "mimetype": "text/x-python",
   "name": "python",
   "nbconvert_exporter": "python",
   "pygments_lexer": "ipython3",
   "version": "3.8.6-final"
  },
  "orig_nbformat": 2,
  "kernelspec": {
   "name": "python3",
   "display_name": "Python 3",
   "language": "python"
  }
 },
 "nbformat": 4,
 "nbformat_minor": 2,
 "cells": [
  {
   "source": [
    "print(__name__)"
   ],
   "cell_type": "code",
   "metadata": {},
   "execution_count": 1,
   "outputs": [
    {
     "output_type": "stream",
     "name": "stdout",
     "text": [
      "__main__\n"
     ]
    }
   ]
  },
  {
   "source": [
    "This is the first modules name.\n"
   ],
   "cell_type": "markdown",
   "metadata": {}
  },
  {
   "cell_type": "code",
   "execution_count": 9,
   "metadata": {},
   "outputs": [
    {
     "output_type": "stream",
     "name": "stdout",
     "text": [
      "First modules name: __main__\n"
     ]
    }
   ],
   "source": [
    "print(f'First modules name: {__name__}')"
   ]
  },
  {
   "source": [
    "* When python runs a code(script), before going through the lines it sets a few special variables. `__name__` is one of those python variables.\n",
    "* When python runs a file directly it sets the `__name__` variable to `__main__`, thats what saw above.\n",
    "\n",
    "Now I've saved the code in a `module1.py` file, now importing that file."
   ],
   "cell_type": "markdown",
   "metadata": {}
  },
  {
   "cell_type": "code",
   "execution_count": 1,
   "metadata": {},
   "outputs": [
    {
     "output_type": "stream",
     "name": "stdout",
     "text": [
      "First modules name: module1\n"
     ]
    }
   ],
   "source": [
    "import module1"
   ]
  },
  {
   "source": [
    "The `__name__` is set to module's name.\n",
    "\n",
    "The file is no longer run directly but being imported, \n",
    "\n",
    "It is used to identify, if this file is being run directly by python or simply is this the main script running..\n",
    "\n",
    "Or are you the impoted one"
   ],
   "cell_type": "markdown",
   "metadata": {}
  },
  {
   "cell_type": "code",
   "execution_count": 3,
   "metadata": {},
   "outputs": [
    {
     "output_type": "stream",
     "name": "stdout",
     "text": [
      "I will always run\nI'll run only if called directly\n"
     ]
    }
   ],
   "source": [
    "print(\"I will always run\")\n",
    "\n",
    "def main():\n",
    "    print(\"I'll run only if called directly\")\n",
    "\n",
    "if __name__ == \"__main__\":\n",
    "    main()"
   ]
  },
  {
   "source": [
    "If the above code is put in the `module1.py`, then imported and run only the first print statement appears,\n",
    "\n",
    "cz, `main()` is called only when `__name__ == \"__main__\"` or called directly."
   ],
   "cell_type": "markdown",
   "metadata": {}
  },
  {
   "cell_type": "code",
   "execution_count": 1,
   "metadata": {},
   "outputs": [
    {
     "output_type": "stream",
     "name": "stdout",
     "text": [
      "First modules name: module1\nI will always run\n"
     ]
    }
   ],
   "source": [
    "import module1"
   ]
  },
  {
   "source": [
    "Or, function calls only happens when explicitly called like, `module1.main()`, not runs directly at the time of importing."
   ],
   "cell_type": "markdown",
   "metadata": {}
  },
  {
   "cell_type": "code",
   "execution_count": 2,
   "metadata": {},
   "outputs": [
    {
     "output_type": "stream",
     "name": "stdout",
     "text": [
      "I'll run only if called directly\n"
     ]
    }
   ],
   "source": [
    "module1.main()"
   ]
  },
  {
   "cell_type": "code",
   "execution_count": null,
   "metadata": {},
   "outputs": [],
   "source": []
  }
 ]
}
{
 "cells": [
  {
   "cell_type": "markdown",
   "metadata": {},
   "source": [
    "Tik-Tak-Toe  [ c to python port]"
   ]
  },
  {
   "cell_type": "code",
   "execution_count": null,
   "metadata": {},
   "outputs": [],
   "source": [
    "Board = [0,1,2,3,4,5,6,7,8,9]"
   ]
  },
  {
   "cell_type": "code",
   "execution_count": null,
   "metadata": {},
   "outputs": [],
   "source": [
    "def checkForWin():\n",
    "    '''\n",
    "    function to check win status in Tic-Tak-Toe\n",
    "    return value:\n",
    "     1  : Game over with results\n",
    "    -1  : Game in progress\n",
    "     0  : Over and No result\n",
    "     \n",
    "    '''\n",
    "    if Board[7] == Board[8] == Board[9]:\n",
    "        returnValue=1\n",
    "    elif Board[4] == Board[5] == Board[6]:\n",
    "        returnValue=1\n",
    "    elif Board[1] == Board[2] == Board[3]:\n",
    "        returnValue=1\n",
    "    elif Board[7] == Board[4] == Board[1]:\n",
    "        returnValue=1\n",
    "    elif Board[8] == Board[5] == Board[2]:\n",
    "        returnValue=1\n",
    "    elif Board[9] == Board[6] == Board[3]:\n",
    "        returnValue=1\n",
    "    elif Board[7] == Board[5] == Board[3]:\n",
    "        returnValue=1\n",
    "    elif Board[1] == Board[5] == Board[9]:\n",
    "        returnValue=1\n",
    "    \n",
    "    elif Board[1] != 1 and Board[2] != 2 and Board[3] != 3 and Board[4] != 4 and Board[5] != 5 and Board[6] != 6 and Board[7] != 7 and Board[8] != 8 and Board[9] != 9:\n",
    "        returnValue=0\n",
    "    \n",
    "    else:\n",
    "        returnValue=-1\n",
    "        \n",
    "    return returnValue"
   ]
  },
  {
   "cell_type": "code",
   "execution_count": null,
   "metadata": {},
   "outputs": [],
   "source": [
    "from IPython.display import clear_output\n",
    "\n",
    "player1 = 'X'\n",
    "player2 = 'O'\n",
    "def displayBoard():\n",
    "    clear_output()\n",
    "    print('\\t\\t      Tik-Tak-Toe   \\t\\t\\n')\n",
    "    print('-----------------------------------------------------')\n",
    "    print(f'\\t Player 1:  {player1} ------- Player2:  {player2}\\n')\n",
    "    print(\"\\t\\t       |     |     \")\n",
    "    print(f\"\\t\\t    {Board[7]}  |  {Board[8]}  |  {Board[9]}  \")\n",
    "    print(\"\\t\\t  _____|_____|_____ \")\n",
    "    print(\"\\t\\t       |     |     \")\n",
    "    print(f\"\\t\\t    {Board[4]}  |  {Board[5]}  |  {Board[6]}  \")\n",
    "    print(\"\\t\\t  _____|_____|_____ \")\n",
    "    print(\"\\t\\t       |     |     \")\n",
    "    print(f\"\\t\\t    {Board[1]}  |  {Board[2]}  |  {Board[3]}  \")\n",
    "    print(\"\\t\\t       |     |    \")\n",
    "       "
   ]
  },
  {
   "cell_type": "code",
   "execution_count": null,
   "metadata": {},
   "outputs": [],
   "source": [
    "def markBoard(choice):\n",
    "    if choice == 1 and Board[1] == 1:       ## choice is a global variable\n",
    "        Board[1] = mark                     # Board 1 chrtr is replaced with mark\n",
    "    elif choice == 2 and Board[2] == 2:\n",
    "        Board[2] = mark\n",
    "    elif choice == 3 and Board[3] == 3:\n",
    "        Board[3] = mark\n",
    "    elif choice == 4 and Board[4] == 4:\n",
    "        Board[4] = mark\n",
    "    elif choice == 5 and Board[5] == 5:\n",
    "        Board[5] = mark\n",
    "    elif choice == 6 and Board[6] == 6:\n",
    "        Board[6] = mark\n",
    "    elif choice == 7 and Board[7] == 7:\n",
    "        Board[7] = mark\n",
    "    elif choice == 8 and Board[8] == 8:\n",
    "        Board[8] = mark\n",
    "    elif choice == 9 and Board[9] == 9:\n",
    "        Board[9] = mark\n",
    "        \n",
    "    #If passed anything other than 1-9, /Invalid Move/\n",
    "    else:\n",
    "        print(\"\\n Invalid Move: \\n\")\n",
    "        \n"
   ]
  },
  {
   "cell_type": "code",
   "execution_count": null,
   "metadata": {},
   "outputs": [],
   "source": [
    "gameStatus = -1 \n",
    "\n",
    "player = 1\n",
    "\n",
    "\n",
    "\n",
    "player1 = input(\"Please pick a marker 'X' or 'O'\")\n",
    "\n",
    "if player1 == 'X':\n",
    "    player2 = 'O'\n",
    "else:\n",
    "    player2 = 'X'\n",
    "    \n",
    "\n",
    "   #player = 1 # First play set to 1\n",
    "\n",
    "while gameStatus == -1:\n",
    "    \n",
    "    displayBoard()\n",
    "    \n",
    "    if player == 1:\n",
    "        choice = int(input('Player1 Please enter a number'))\n",
    "        mark = player1\n",
    "    elif player == 2:\n",
    "        choice = int(input('Player2 Please enter a number'))\n",
    "        mark = player2\n",
    "    \n",
    "    markBoard(choice)\n",
    "    gameStatus = checkForWin()\n",
    "\n",
    "    if player == 1:\n",
    "        player += 1\n",
    "    else:\n",
    "        player -= 1\n",
    "\n",
    "if (gameStatus == 1):\n",
    "    print(\"==> Player {player} win \")   # win situation\n",
    "else:\n",
    "    print(\"==> Game draw\")               # Draw situation\n",
    "\n",
    "    "
   ]
  },
  {
   "cell_type": "code",
   "execution_count": null,
   "metadata": {},
   "outputs": [],
   "source": []
  },
  {
   "cell_type": "code",
   "execution_count": null,
   "metadata": {},
   "outputs": [],
   "source": []
  }
 ],
 "metadata": {
  "kernelspec": {
   "display_name": "Python 3",
   "language": "python",
   "name": "python3"
  },
  "language_info": {
   "codemirror_mode": {
    "name": "ipython",
    "version": 3
   },
   "file_extension": ".py",
   "mimetype": "text/x-python",
   "name": "python",
   "nbconvert_exporter": "python",
   "pygments_lexer": "ipython3",
   "version": "3.7.3"
  }
 },
 "nbformat": 4,
 "nbformat_minor": 2
}

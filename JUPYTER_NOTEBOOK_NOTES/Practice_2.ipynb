{
 "cells": [
  {
   "cell_type": "code",
   "execution_count": null,
   "metadata": {},
   "outputs": [],
   "source": []
  },
  {
   "cell_type": "code",
   "execution_count": 1,
   "metadata": {},
   "outputs": [
    {
     "output_type": "stream",
     "name": "stdout",
     "text": [
      "hello world\n"
     ]
    }
   ],
   "source": [
    "print('hello world')"
   ]
  },
  {
   "cell_type": "code",
   "execution_count": 1,
   "metadata": {},
   "outputs": [
    {
     "output_type": "stream",
     "name": "stdout",
     "text": [
      "<function hello at 0x000000C34A3424C0>\n"
     ]
    }
   ],
   "source": [
    "def hello():\n",
    "    print('world!')\n",
    "\n",
    "print(hello)"
   ]
  },
  {
   "cell_type": "code",
   "execution_count": 1,
   "metadata": {},
   "outputs": [
    {
     "output_type": "stream",
     "name": "stdout",
     "text": [
      "0x7ffa21ae0700\n"
     ]
    }
   ],
   "source": [
    "x = 4\n",
    "print(hex(id(x)))"
   ]
  },
  {
   "source": [
    "Create a function taking a positive integer as its parameter and returning a string containing the Roman Numeral representation of that integer.\n",
    "\n",
    "Modern Roman numerals are written by expressing each digit separately starting with the left most digit and skipping any digit with a value of zero. In Roman numerals 1990 is rendered: 1000=M, 900=CM, 90=XC; resulting in MCMXC. 2008 is written as 2000=MM, 8=VIII; or MMVIII. 1666 uses each Roman symbol in descending order: MDCLXVI.\n",
    "\n",
    "Symbol    Value\n",
    "\n",
    "---\n",
    "\n",
    "I     |     1\n",
    "\n",
    "---\n",
    "V     |     5\n",
    "\n",
    "---\n",
    "X     |     10\n",
    "\n",
    "---\n",
    "L     |     50\n",
    "\n",
    "---\n",
    "C     |     100\n",
    "\n",
    "---\n",
    "D     |     500\n",
    "\n",
    "---\n",
    "M     |     1,000\n",
    "\n",
    "---\n",
    "\n",
    "solution(1000) # should return 'M'"
   ],
   "cell_type": "markdown",
   "metadata": {}
  },
  {
   "cell_type": "code",
   "execution_count": 67,
   "metadata": {
    "tags": []
   },
   "outputs": [
    {
     "output_type": "stream",
     "name": "stdout",
     "text": [
      "DXVI\n"
     ]
    }
   ],
   "source": [
    "def solution(n):\n",
    "    values = [1000, 900, 500, 400,\n",
    "            100, 90, 50, 40,\n",
    "            10, 9, 5, 4,\n",
    "            1]\n",
    "\n",
    "    literal = [\"M\", \"CM\", \"D\", \"CD\",\n",
    "            \"C\", \"XC\", \"L\", \"XL\",\n",
    "            \"X\", \"IX\", \"V\", \"IV\",\n",
    "            \"I\"]\n",
    "\n",
    "    roman = ''\n",
    "    \n",
    "    for i in range(len(values)):\n",
    "        cDig = n // values[i]\n",
    "        if (cDig):\n",
    "            roman += cDig * literal[i]\n",
    "            n = n % values[i]\n",
    "\n",
    "    return roman\n",
    "\n",
    "# solution(56)\n",
    "print(solution(516))"
   ]
  },
  {
   "source": [
    "Using recursion(best practice)"
   ],
   "cell_type": "markdown",
   "metadata": {}
  },
  {
   "cell_type": "code",
   "execution_count": null,
   "metadata": {},
   "outputs": [],
   "source": [
    "def solution(x):\n",
    "    table = [\n",
    "        (1000,\"M\"),\n",
    "        (900,\"CM\"),\n",
    "        (500,\"D\"),\n",
    "        (400,\"CD\"),\n",
    "        (100,\"C\"),\n",
    "        (90,\"XC\"),\n",
    "        (50,\"L\"),\n",
    "        (40,\"XL\"),\n",
    "        (10,\"X\"),\n",
    "        (9,\"IX\"),\n",
    "        (5,\"V\"),\n",
    "        (4,\"IV\"),\n",
    "        (1,\"I\")\n",
    "    ]\n",
    "    for num, rep in table:\n",
    "        if x >= num:\n",
    "            return rep + solution(x-num)\n",
    "    return str()"
   ]
  },
  {
   "cell_type": "code",
   "execution_count": 7,
   "metadata": {},
   "outputs": [
    {
     "output_type": "execute_result",
     "data": {
      "text/plain": [
       "False"
      ]
     },
     "metadata": {},
     "execution_count": 7
    }
   ],
   "source": [
    "# Find the number is prime or not\n",
    "def is_prime(num):\n",
    "    # print(list(range(2, num)))\n",
    "    for n in range(2, num):\n",
    "        if (num % n == 0):\n",
    "            return False\n",
    "    return True\n",
    "\n",
    "is_prime(9)"
   ]
  },
  {
   "cell_type": "code",
   "execution_count": 17,
   "metadata": {},
   "outputs": [
    {
     "output_type": "execute_result",
     "data": {
      "text/plain": [
       "False"
      ]
     },
     "metadata": {},
     "execution_count": 17
    }
   ],
   "source": [
    "# Efficient method, less number to check for\n",
    "def is_prime(num):\n",
    "    # Eliminates all even numbers\n",
    "    if num % 2 == 0 and num > 2:\n",
    "        return False\n",
    "    \n",
    "    # check for all numbers starting from 3, in \n",
    "    # step of 2 like 3, 5, 7...\n",
    "    # no need to check the full range only upto\n",
    "    # the square root of the number, so the number of checks reduced\n",
    "    for n in range(3, int(num**(1/2))+1, 2):\n",
    "        if (num % n == 0):\n",
    "            return False\n",
    "    return True\n",
    "\n",
    "is_prime()"
   ]
  },
  {
   "cell_type": "code",
   "execution_count": null,
   "metadata": {},
   "outputs": [],
   "source": [
    "# need to consider cases like , -ve values, 0 and 1\n",
    "\n",
    "def is_prime(num):\n",
    "    # Eliminates all numbers less tham 2\n",
    "    if num < 2:\n",
    "        return False\n",
    "\n",
    "    # Eliminates all even numbers\n",
    "    if num % 2 == 0 and num > 2:\n",
    "        return False\n",
    "    \n",
    "    # check for all numbers starting from 3, in \n",
    "    # step of 2 up to the sq. root of given number.\n",
    "    for n in range(3, int(num**(1/2))+1, 2):\n",
    "        if (num % n == 0):\n",
    "            return False\n",
    "    return True"
   ]
  },
  {
   "cell_type": "code",
   "execution_count": null,
   "metadata": {},
   "outputs": [],
   "source": []
  },
  {
   "cell_type": "code",
   "execution_count": 1,
   "metadata": {},
   "outputs": [
    {
     "output_type": "stream",
     "name": "stdout",
     "text": [
      "testing\n"
     ]
    }
   ],
   "source": [
    "print ('testing')"
   ]
  },
  {
   "source": [
    "Given two arrays of strings a1 and a2 return a sorted array r in lexicographical order of the strings of a1 which are substrings of strings of a2.\n",
    "\n",
    "#Example 1: a1 = \\[\"arp\", \"live\", \"strong\"\\]\n",
    "\n",
    "a2 = \\[\"lively\", \"alive\", \"harp\", \"sharp\", \"armstrong\"\\]\n",
    "\n",
    "returns \\[\"arp\", \"live\", \"strong\"\\]\n",
    "\n",
    "#Example 2: a1 = \\[\"tarp\", \"mice\", \"bull\"\\]\n",
    "\n",
    "a2 = \\[\"lively\", \"alive\", \"harp\", \"sharp\", \"armstrong\"\\]\n",
    "\n",
    "returns \\[\\]"
   ],
   "cell_type": "markdown",
   "metadata": {}
  },
  {
   "cell_type": "code",
   "execution_count": 1,
   "metadata": {},
   "outputs": [
    {
     "output_type": "stream",
     "name": "stdout",
     "text": [
      "['arp', 'live', 'strong']\n"
     ]
    },
    {
     "output_type": "execute_result",
     "data": {
      "text/plain": [
       "['arp', 'live', 'strong']"
      ]
     },
     "metadata": {},
     "execution_count": 1
    }
   ],
   "source": [
    "def in_array(array1, array2):\n",
    "    r = []\n",
    "    for w2 in array2:\n",
    "        for w1 in array1:\n",
    "            if (w1 in w2) and (w1 not in r) :\n",
    "                r.append(w1)\n",
    "    return sorted(r)\n",
    "\n",
    "a1 = [\"live\", \"arp\", \"strong\"] \n",
    "a2 = [\"lively\", \"alive\", \"harp\", \"sharp\", \"armstrong\"]\n",
    "# r = ['arp', 'live', 'strong']\n",
    "print(in_array(a1, a2))\n",
    "in_array(a1, a2)"
   ]
  },
  {
   "cell_type": "code",
   "execution_count": 3,
   "metadata": {},
   "outputs": [
    {
     "output_type": "stream",
     "name": "stdout",
     "text": [
      "['arp', 'live', 'strong']\n"
     ]
    },
    {
     "output_type": "execute_result",
     "data": {
      "text/plain": [
       "['arp', 'live', 'strong']"
      ]
     },
     "metadata": {},
     "execution_count": 3
    }
   ],
   "source": [
    "# Good solution\n",
    "def in_array(a1, a2):\n",
    "    return sorted(set(s1 for s1 in a1 if any(s1 in s2 for s2 in a2)))\n",
    "\n",
    "a1 = [\"live\", \"arp\", \"strong\"] \n",
    "a2 = [\"lively\", \"alive\", \"harp\", \"sharp\", \"armstrong\"]\n",
    "# r = ['arp', 'live', 'strong']\n",
    "print(in_array(a1, a2))\n",
    "in_array(a1, a2)"
   ]
  },
  {
   "cell_type": "code",
   "execution_count": null,
   "metadata": {},
   "outputs": [],
   "source": []
  },
  {
   "cell_type": "code",
   "execution_count": 133,
   "metadata": {},
   "outputs": [
    {
     "output_type": "execute_result",
     "data": {
      "text/plain": [
       "'s eT ashi tist!'"
      ]
     },
     "metadata": {},
     "execution_count": 133
    }
   ],
   "source": [
    "# encryption\n",
    "\n",
    "def encrypt(text, n):\n",
    "    str1 = ''\n",
    "    str2 = ''\n",
    "    for i in range(0, len(text), 2):\n",
    "        str1 += text[i]\n",
    "        if i < len(text) - 1:\n",
    "            str2 += text[i + 1]\n",
    "    text = str2 + str1\n",
    "    n -= 1\n",
    "\n",
    "    if n != 0:\n",
    "        return encrypt(text, n)\n",
    "\n",
    "    return text\n",
    "\n",
    "\n",
    "# encrypt(\"This is a test!\", 0)\n",
    "# \"This is a test!\"\n",
    "encrypt(\"This is a test!\", 10)\n",
    "# \"hsi  etTi sats!\""
   ]
  },
  {
   "cell_type": "code",
   "execution_count": 135,
   "metadata": {},
   "outputs": [
    {
     "output_type": "stream",
     "name": "stdout",
     "text": [
      "2\n"
     ]
    },
    {
     "output_type": "execute_result",
     "data": {
      "text/plain": [
       "'This is a test!'"
      ]
     },
     "metadata": {},
     "execution_count": 135
    }
   ],
   "source": [
    "def decrypt(text, n):\n",
    "    print(n % 4)\n",
    "    return (encrypt(text, 4 - (n % 4)))\n",
    "\n",
    "decrypt(\"s eT ashi tist!\", 10)"
   ]
  },
  {
   "cell_type": "code",
   "execution_count": 153,
   "metadata": {},
   "outputs": [
    {
     "output_type": "execute_result",
     "data": {
      "text/plain": [
       "'This kata is very interesting!'"
      ]
     },
     "metadata": {},
     "execution_count": 153
    }
   ],
   "source": [
    "# decription\n",
    "\n",
    "def decrypt(text, n):\n",
    "    eIStr = text[int(len(text)/2):]\n",
    "    oIStr = text[:int(len(text)/2)]\n",
    "\n",
    "    orStr = \"\".join([a + b for a,b in zip(eIStr, oIStr)])\n",
    "\n",
    "    if len(eIStr) > len(oIStr):\n",
    "        orStr = orStr + eIStr[-1]\n",
    "\n",
    "    n -= 1\n",
    "    if n != 0:\n",
    "        return decrypt(orStr, n)\n",
    "    return orStr\n",
    "    \n",
    "\n",
    "decrypt(\"hskt svr neetn!Ti aai eyitrsig\", 1)"
   ]
  },
  {
   "cell_type": "code",
   "execution_count": 67,
   "metadata": {},
   "outputs": [
    {
     "output_type": "stream",
     "name": "stdout",
     "text": [
      "['pT', 'ah', 'te', 'tn', 'id']\ni\n"
     ]
    }
   ],
   "source": [
    "d = \"patti\"\n",
    "s = 'Thendi'\n",
    "f = zip(d, s)\n",
    "# print(list(f))\n",
    "print([a + b for a,b in f])\n",
    "\n",
    "# print the one with max length\n",
    "print(max(d,s, key=len)[min(len(d),len(s)):])\n",
    "# [min(len(d),len(s)):]"
   ]
  },
  {
   "cell_type": "code",
   "execution_count": 152,
   "metadata": {},
   "outputs": [
    {
     "output_type": "execute_result",
     "data": {
      "text/plain": [
       "'This kata is very interesting!'"
      ]
     },
     "metadata": {},
     "execution_count": 152
    }
   ],
   "source": [
    "def encrypt(text, n):\n",
    "    if text and n > 0:\n",
    "        str1, str2 = '',''\n",
    "        for i in range(0, len(text), 2):\n",
    "            str1 += text[i]\n",
    "            if i < len(text) - 1:\n",
    "                str2 += text[i + 1]\n",
    "        text = str2 + str1\n",
    "        n -= 1\n",
    "        return encrypt(text, n)\n",
    "\n",
    "    return text\n",
    "\n",
    "# encrypt(\"This\", 1)\n",
    "encrypt(\"hskt svr neetn!Ti aai eyitrsig\", 4)"
   ]
  },
  {
   "cell_type": "code",
   "execution_count": 3,
   "metadata": {},
   "outputs": [
    {
     "output_type": "execute_result",
     "data": {
      "text/plain": [
       "'This is a test!'"
      ]
     },
     "metadata": {},
     "execution_count": 3
    }
   ],
   "source": [
    "def decrypt(encrypted_text, n):\n",
    "    if len(encrypted_text)%2 == 0:\n",
    "        c = 4\n",
    "    else:\n",
    "        c = 5\n",
    "    return (encrypt(encrypted_text, c - (n % c)))\n",
    "\n",
    "# decrypt(\"hsi  etTi sats!\", 1)\n",
    "# encrypt(\"This is a test!\", -1)\n",
    "# hsi  etTi sats!\n",
    "# decrypt(\"hsi  etTi sats!\", 1)\n",
    "# decrypt(\"hsi  etTi sats!\", 1)\n",
    "decrypt(\"This is a test!\", 1)"
   ]
  },
  {
   "cell_type": "code",
   "execution_count": 2,
   "metadata": {},
   "outputs": [],
   "source": [
    "def encrypt(text, n):\n",
    "    if text and n > 0:\n",
    "        str1, str2 = '',''\n",
    "        for i in range(0, len(text), 2):\n",
    "            str1 += text[i]\n",
    "            if i < len(text) - 1:\n",
    "                str2 += text[i + 1]\n",
    "        text = str2 + str1\n",
    "        n -= 1\n",
    "        return encrypt(text, n)\n",
    "\n",
    "    return text\n",
    "\n",
    "\n",
    "def decrypt(encrypted_text, n):\n",
    "    if encrypted_text and n > 0:\n",
    "        eIStr = encrypted_text[int(len(encrypted_text)/2):]\n",
    "        oIStr = encrypted_text[:int(len(encrypted_text)/2)]\n",
    "\n",
    "        orStr = \"\".join([a + b for a,b in zip(eIStr, oIStr)])\n",
    "\n",
    "        if len(eIStr) > len(oIStr):\n",
    "            orStr = orStr + eIStr[-1]\n",
    "        n -= 1\n",
    "        return decrypt(orStr, n)\n",
    "    return encrypted_text"
   ]
  },
  {
   "cell_type": "code",
   "execution_count": 5,
   "metadata": {},
   "outputs": [
    {
     "output_type": "execute_result",
     "data": {
      "text/plain": [
       "3"
      ]
     },
     "metadata": {},
     "execution_count": 5
    }
   ],
   "source": [
    "def add(a, b):\n",
    "    return a + b\n",
    "\n",
    "add(1, 2)"
   ]
  },
  {
   "cell_type": "code",
   "execution_count": null,
   "metadata": {},
   "outputs": [],
   "source": []
  }
 ],
 "metadata": {
  "kernelspec": {
   "name": "python3",
   "display_name": "Python 3.8.6 64-bit",
   "metadata": {
    "interpreter": {
     "hash": "604522f1918a4f70ab804f3225c4c25389e7cf7d629ed4133598ebf924cdb86e"
    }
   }
  },
  "language_info": {
   "codemirror_mode": {
    "name": "ipython",
    "version": 3
   },
   "file_extension": ".py",
   "mimetype": "text/x-python",
   "name": "python",
   "nbconvert_exporter": "python",
   "pygments_lexer": "ipython3",
   "version": "3.8.6-final"
  }
 },
 "nbformat": 4,
 "nbformat_minor": 2
}
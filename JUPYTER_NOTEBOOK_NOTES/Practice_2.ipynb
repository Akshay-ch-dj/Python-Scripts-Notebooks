{
 "cells": [
  {
   "cell_type": "code",
   "execution_count": null,
   "metadata": {},
   "outputs": [],
   "source": []
  },
  {
   "cell_type": "code",
   "execution_count": 1,
   "metadata": {},
   "outputs": [
    {
     "output_type": "stream",
     "name": "stdout",
     "text": [
      "hello world\n"
     ]
    }
   ],
   "source": [
    "print('hello world')"
   ]
  },
  {
   "cell_type": "code",
   "execution_count": 2,
   "metadata": {},
   "outputs": [
    {
     "output_type": "stream",
     "name": "stdout",
     "text": [
      "<function hello at 0x0000003912829280>\n"
     ]
    }
   ],
   "source": [
    "def hello():\n",
    "    print('world!')\n",
    "\n",
    "print(hello)"
   ]
  },
  {
   "cell_type": "code",
   "execution_count": 1,
   "metadata": {},
   "outputs": [
    {
     "output_type": "stream",
     "name": "stdout",
     "text": [
      "0x7ffa21ae0700\n"
     ]
    }
   ],
   "source": [
    "x = 4\n",
    "print(hex(id(x)))"
   ]
  },
  {
   "source": [
    "Create a function taking a positive integer as its parameter and returning a string containing the Roman Numeral representation of that integer.\n",
    "\n",
    "Modern Roman numerals are written by expressing each digit separately starting with the left most digit and skipping any digit with a value of zero. In Roman numerals 1990 is rendered: 1000=M, 900=CM, 90=XC; resulting in MCMXC. 2008 is written as 2000=MM, 8=VIII; or MMVIII. 1666 uses each Roman symbol in descending order: MDCLXVI.\n",
    "\n",
    "Symbol    Value\n",
    "\n",
    "---\n",
    "\n",
    "I     |     1\n",
    "\n",
    "---\n",
    "V     |     5\n",
    "\n",
    "---\n",
    "X     |     10\n",
    "\n",
    "---\n",
    "L     |     50\n",
    "\n",
    "---\n",
    "C     |     100\n",
    "\n",
    "---\n",
    "D     |     500\n",
    "\n",
    "---\n",
    "M     |     1,000\n",
    "\n",
    "---\n",
    "\n",
    "solution(1000) # should return 'M'"
   ],
   "cell_type": "markdown",
   "metadata": {}
  },
  {
   "cell_type": "code",
   "execution_count": 67,
   "metadata": {
    "tags": []
   },
   "outputs": [
    {
     "output_type": "stream",
     "name": "stdout",
     "text": [
      "DXVI\n"
     ]
    }
   ],
   "source": [
    "def solution(n):\n",
    "    values = [1000, 900, 500, 400,\n",
    "            100, 90, 50, 40,\n",
    "            10, 9, 5, 4,\n",
    "            1]\n",
    "\n",
    "    literal = [\"M\", \"CM\", \"D\", \"CD\",\n",
    "            \"C\", \"XC\", \"L\", \"XL\",\n",
    "            \"X\", \"IX\", \"V\", \"IV\",\n",
    "            \"I\"]\n",
    "\n",
    "    roman = ''\n",
    "    \n",
    "    for i in range(len(values)):\n",
    "        cDig = n // values[i]\n",
    "        if (cDig):\n",
    "            roman += cDig * literal[i]\n",
    "            n = n % values[i]\n",
    "\n",
    "    return roman\n",
    "\n",
    "# solution(56)\n",
    "print(solution(516))"
   ]
  },
  {
   "source": [
    "Using recursion(best practice)"
   ],
   "cell_type": "markdown",
   "metadata": {}
  },
  {
   "cell_type": "code",
   "execution_count": null,
   "metadata": {},
   "outputs": [],
   "source": [
    "def solution(x):\n",
    "    table = [\n",
    "        (1000,\"M\"),\n",
    "        (900,\"CM\"),\n",
    "        (500,\"D\"),\n",
    "        (400,\"CD\"),\n",
    "        (100,\"C\"),\n",
    "        (90,\"XC\"),\n",
    "        (50,\"L\"),\n",
    "        (40,\"XL\"),\n",
    "        (10,\"X\"),\n",
    "        (9,\"IX\"),\n",
    "        (5,\"V\"),\n",
    "        (4,\"IV\"),\n",
    "        (1,\"I\")\n",
    "    ]\n",
    "    for num, rep in table:\n",
    "        if x >= num:\n",
    "            return rep + solution(x-num)\n",
    "    return str()"
   ]
  }
 ],
 "metadata": {
  "kernelspec": {
   "name": "python3",
   "display_name": "Python 3.8.6 64-bit",
   "metadata": {
    "interpreter": {
     "hash": "604522f1918a4f70ab804f3225c4c25389e7cf7d629ed4133598ebf924cdb86e"
    }
   }
  },
  "language_info": {
   "codemirror_mode": {
    "name": "ipython",
    "version": 3
   },
   "file_extension": ".py",
   "mimetype": "text/x-python",
   "name": "python",
   "nbconvert_exporter": "python",
   "pygments_lexer": "ipython3",
   "version": "3.8.6-final"
  }
 },
 "nbformat": 4,
 "nbformat_minor": 2
}
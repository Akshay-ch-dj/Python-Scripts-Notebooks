{
 "cells": [
  {
   "cell_type": "markdown",
   "metadata": {},
   "source": [
    "# practisepython.org"
   ]
  },
  {
   "cell_type": "code",
   "execution_count": 1,
   "metadata": {},
   "outputs": [
    {
     "name": "stdout",
     "output_type": "stream",
     "text": [
      "Enter your name and Age one by one\n",
      "45 54\n",
      "4 4 4 4\n"
     ]
    },
    {
     "ename": "ValueError",
     "evalue": "invalid literal for int() with base 10: '4 4 4 4'",
     "output_type": "error",
     "traceback": [
      "\u001b[1;31m---------------------------------------------------------------------------\u001b[0m",
      "\u001b[1;31mValueError\u001b[0m                                Traceback (most recent call last)",
      "\u001b[1;32m<ipython-input-1-9fe608990288>\u001b[0m in \u001b[0;36m<module>\u001b[1;34m\u001b[0m\n\u001b[0;32m      6\u001b[0m \u001b[1;33m\u001b[0m\u001b[0m\n\u001b[0;32m      7\u001b[0m \u001b[1;33m\u001b[0m\u001b[0m\n\u001b[1;32m----> 8\u001b[1;33m \u001b[0myear\u001b[0m \u001b[1;33m=\u001b[0m \u001b[1;36m2019\u001b[0m\u001b[1;33m+\u001b[0m\u001b[1;33m(\u001b[0m\u001b[1;36m100\u001b[0m \u001b[1;33m-\u001b[0m \u001b[0mint\u001b[0m\u001b[1;33m(\u001b[0m\u001b[0mdata_list\u001b[0m\u001b[1;33m[\u001b[0m\u001b[1;36m1\u001b[0m\u001b[1;33m]\u001b[0m\u001b[1;33m)\u001b[0m\u001b[1;33m)\u001b[0m\u001b[1;33m\u001b[0m\u001b[1;33m\u001b[0m\u001b[0m\n\u001b[0m\u001b[0;32m      9\u001b[0m \u001b[1;33m\u001b[0m\u001b[0m\n\u001b[0;32m     10\u001b[0m \u001b[0mprint\u001b[0m\u001b[1;33m(\u001b[0m\u001b[1;34m'Hello {}, wish you can celebrate your 100th birthday on {}'\u001b[0m\u001b[1;33m.\u001b[0m\u001b[0mformat\u001b[0m\u001b[1;33m(\u001b[0m\u001b[0mdata_list\u001b[0m\u001b[1;33m[\u001b[0m\u001b[1;36m0\u001b[0m\u001b[1;33m]\u001b[0m\u001b[1;33m,\u001b[0m \u001b[0myear\u001b[0m\u001b[1;33m)\u001b[0m\u001b[1;33m)\u001b[0m\u001b[1;33m\u001b[0m\u001b[1;33m\u001b[0m\u001b[0m\n",
      "\u001b[1;31mValueError\u001b[0m: invalid literal for int() with base 10: '4 4 4 4'"
     ]
    }
   ],
   "source": [
    "\n",
    "print('Enter your name and Age one by one')\n",
    "\n",
    "# data input\n",
    "\n",
    "data_list = [input() for i in range(2)]\n",
    "\n",
    "\n",
    "year = 2019+(100 - int(data_list[1]))\n",
    "\n",
    "print('Hello {}, wish you can celebrate your 100th birthday on {}'.format(data_list[0], year))"
   ]
  },
  {
   "cell_type": "code",
   "execution_count": null,
   "metadata": {},
   "outputs": [],
   "source": [
    "# Alternate\n",
    "\n",
    "input_list = input().split(',')\n",
    "\n",
    "year = 2019+(100 - int(input_list[1]))\n",
    "\n",
    "print('Hello {}, wish you can celebrate your 100th birthday on {}'.format(input_list[0], year))"
   ]
  },
  {
   "cell_type": "code",
   "execution_count": null,
   "metadata": {},
   "outputs": [],
   "source": [
    "# Exercise 2 \n",
    "# find odd or even\n",
    "\n",
    "num = int(input('Enter a number:'))\n",
    "\n",
    "if num%2 == 0:\n",
    "    print(' You are more of an even person')\n",
    "else:\n",
    "    print('Your way of thinking is odd')"
   ]
  },
  {
   "cell_type": "code",
   "execution_count": null,
   "metadata": {},
   "outputs": [],
   "source": [
    "# numbers less than five\n",
    "\n",
    "def less_than_five (list1):\n",
    "    \n",
    "    newlist = []\n",
    "    for num in list1:\n",
    "        if num < 5:\n",
    "            newlist.append(num)\n",
    "    return newlist\n",
    "            "
   ]
  },
  {
   "cell_type": "code",
   "execution_count": null,
   "metadata": {},
   "outputs": [],
   "source": [
    "list1 = [23,6,7788,4,5,3,2,1,2,6,78,99]\n",
    "\n",
    "less_than_five(list1)"
   ]
  },
  {
   "cell_type": "code",
   "execution_count": null,
   "metadata": {},
   "outputs": [],
   "source": [
    "# Using Lambda and filter\n",
    "\n",
    "#myList = list(filter(lambda num: num<5, list1))\n",
    "\n",
    "print(list(filter(lambda num: num<5, list1)))\n"
   ]
  },
  {
   "cell_type": "code",
   "execution_count": 3,
   "metadata": {},
   "outputs": [
    {
     "name": "stdout",
     "output_type": "stream",
     "text": [
      "Enter a number12\n",
      "[1, 2, 3, 4, 6]\n"
     ]
    }
   ],
   "source": [
    "# prgrm to print out all the divisors of a number\n",
    "\n",
    "number = int(input('Enter a number'))\n",
    "\n",
    "myList = []\n",
    "for num in range(1,number):\n",
    "    if number%num == 0:\n",
    "        myList.append(num)\n",
    "\n",
    "print(myList)"
   ]
  },
  {
   "cell_type": "code",
   "execution_count": 5,
   "metadata": {},
   "outputs": [
    {
     "name": "stdout",
     "output_type": "stream",
     "text": [
      "Random number list is: [10, 45, 13, 48, 36, 23, 41]\n"
     ]
    }
   ],
   "source": [
    "# Some randon practice\n",
    "import random\n",
    "\n",
    "res = []\n",
    "\n",
    "for i in range(7):\n",
    "    res.append(random.randrange(1,50,1))\n",
    "    \n",
    "print('Random number list is: '+ str(res))"
   ]
  },
  {
   "cell_type": "code",
   "execution_count": 12,
   "metadata": {},
   "outputs": [
    {
     "name": "stdout",
     "output_type": "stream",
     "text": [
      "Random number list is: [27, 10, 18, 39, 24, 14, 38]\n"
     ]
    }
   ],
   "source": [
    "res = [random.randrange(1,50,1) for i in range(7)]\n",
    "print('Random number list is: '+ str(res))"
   ]
  },
  {
   "cell_type": "code",
   "execution_count": 31,
   "metadata": {},
   "outputs": [
    {
     "name": "stdout",
     "output_type": "stream",
     "text": [
      "[11, 5, 1, 11, 8, 10, 24, 20, 26, 14] [27, 10, 19, 17, 2, 7, 4, 12, 26, 22]\n",
      "[10, 26]\n"
     ]
    }
   ],
   "source": [
    "import random\n",
    "# MATCHING LISTS\n",
    "\n",
    "list1 = [random.randrange(1,30,1) for i in range(10)]\n",
    "list2 = [random.randrange(1,30,1) for i in range(10)]\n",
    "\n",
    "print( list1, list2)\n",
    "\n",
    "res = [num for num in list1 if num in list2]\n",
    "\n",
    "\n",
    "print(res)"
   ]
  },
  {
   "cell_type": "code",
   "execution_count": null,
   "metadata": {},
   "outputs": [],
   "source": [
    "res = []\n",
    "for num in list1:\n",
    "    if num in list2:\n",
    "        res.append(num)"
   ]
  },
  {
   "cell_type": "code",
   "execution_count": 1,
   "metadata": {},
   "outputs": [],
   "source": [
    "#res = []\n",
    "#for num in list1:\n",
    " #   if num in list2:\n",
    "  #      res.append(num)"
   ]
  },
  {
   "cell_type": "code",
   "execution_count": 2,
   "metadata": {},
   "outputs": [],
   "source": [
    "def front_back (str):\n",
    "    n = len(str)\n",
    "    if n == 1:\n",
    "        return str\n",
    "    return str[n-1] + str[1:(n-1)] + str[0]"
   ]
  },
  {
   "cell_type": "code",
   "execution_count": 4,
   "metadata": {},
   "outputs": [
    {
     "data": {
      "text/plain": [
       "'koob'"
      ]
     },
     "execution_count": 4,
     "metadata": {},
     "output_type": "execute_result"
    }
   ],
   "source": [
    "front_back('book')"
   ]
  },
  {
   "cell_type": "code",
   "execution_count": 5,
   "metadata": {},
   "outputs": [
    {
     "data": {
      "text/plain": [
       "'eodc'"
      ]
     },
     "execution_count": 5,
     "metadata": {},
     "output_type": "execute_result"
    }
   ],
   "source": [
    "front_back('code')"
   ]
  },
  {
   "cell_type": "code",
   "execution_count": null,
   "metadata": {},
   "outputs": [],
   "source": []
  }
 ],
 "metadata": {
  "kernelspec": {
   "display_name": "Python 3",
   "language": "python",
   "name": "python3"
  },
  "language_info": {
   "codemirror_mode": {
    "name": "ipython",
    "version": 3
   },
   "file_extension": ".py",
   "mimetype": "text/x-python",
   "name": "python",
   "nbconvert_exporter": "python",
   "pygments_lexer": "ipython3",
   "version": "3.7.4"
  }
 },
 "nbformat": 4,
 "nbformat_minor": 2
}

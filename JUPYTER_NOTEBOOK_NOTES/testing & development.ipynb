{
 "cells": [
  {
   "cell_type": "markdown",
   "metadata": {},
   "source": [
    "This script consists of two functions: **populate_dictionary(filename)** and **find_email(argv)**. The function populate_dictionary(filename) reads the user_emails.csv file and populates a dictionary with name/value pairs. The other function, find_emails(argv), searches the dictionary created in the previous function for the user name passed to the function as a parameter. It then returns the associated email address. This script accepts employee's first name and last name as command-line arguments and outputs their email address."
   ]
  },
  {
   "cell_type": "code",
   "execution_count": null,
   "metadata": {},
   "outputs": [],
   "source": [
    "import csv\n",
    "def populate_dictionary(filename):\n",
    "    user_dict = {}\n",
    "    with open (filename, mode='r') as file:\n",
    "        csv_f = csv.reader(file)\n",
    "        headers = next(csv_f)  # next catches the header raw(list followed by next only does the valid data)\n",
    "        data = list(csv_f)     # exhaust iterator from second row onwards\n",
    "        for row in data:\n",
    "            name, email = row\n",
    "            user_dict[name] = email\n",
    "        file.close()\n",
    "    return user_dict\n",
    "\n",
    "print(populate_dictionary(\"sample.csv\"))"
   ]
  },
  {
   "cell_type": "code",
   "execution_count": 37,
   "metadata": {},
   "outputs": [
    {
     "name": "stdout",
     "output_type": "stream",
     "text": [
      "{'ollins': 'oren@semmagna.com', 'Flavia Santiago': 'flavia@utnisia.net', 'Jackson Owens': 'jackowens@abc.edu', 'Britanni Humphrey': 'britanni@ut.net', 'Kirk Nixon': 'kirknixon@abc.edu', 'Bree Campbell': 'breee@utnisia.net', 'Oren Rollins': 'oren@semmagna.com'}\n"
     ]
    }
   ],
   "source": [
    "import csv\n",
    "def populate_dictionary2(filename):\n",
    "    user_dict = {}\n",
    "    with open (filename, mode='r') as file:\n",
    "        reader = csv.DictReader(file)\n",
    "        for row in reader:\n",
    "            user_dict[row[\"Name\"]] = row[\"email\"]\n",
    "        file.close()\n",
    "    return user_dict\n",
    "\n",
    "print(populate_dictionary2(\"sample.csv\"))"
   ]
  },
  {
   "cell_type": "markdown",
   "metadata": {},
   "source": [
    "In the second **find_email(argv)** function\n",
    "\n",
    "The script accepts arguments through the command line. These arguments are stored in a list named sys.argv. The first element of this list, i.e. argv[0], is always the name of the file being executed. So the parameters, i.e., first name and last name, are then stored in argv[1] and argv[2] respectively."
   ]
  },
  {
   "cell_type": "code",
   "execution_count": 40,
   "metadata": {},
   "outputs": [
    {
     "name": "stdout",
     "output_type": "stream",
     "text": [
      "flavia@utnisia.net\n"
     ]
    }
   ],
   "source": [
    "import sys\n",
    "def find_email(argv):\n",
    "    return my_dict[' '.join([argv[1], argv[2]])]\n",
    "\n",
    "my_dict = populate_dictionary2(\"sample.csv\")\n",
    "print(find_email(['', 'Flavia', 'Santiago']))"
   ]
  },
  {
   "cell_type": "markdown",
   "metadata": {},
   "source": [
    "<h1> INTRODUCING TEST CASES </h1>"
   ]
  },
  {
   "cell_type": "markdown",
   "metadata": {},
   "source": [
    "we will write a basic test case and see how it works. A test case is an individual unit of testing that checks for a specific response to a particular set of inputs.\n",
    "This script's primary objective is to write test cases that correct bugs in the existing emails.py script. We will use the unittest package for this."
   ]
  },
  {
   "cell_type": "code",
   "execution_count": 42,
   "metadata": {},
   "outputs": [
    {
     "ename": "ModuleNotFoundError",
     "evalue": "No module named 'emails'",
     "output_type": "error",
     "traceback": [
      "\u001b[1;31m---------------------------------------------------------------------------\u001b[0m",
      "\u001b[1;31mModuleNotFoundError\u001b[0m                       Traceback (most recent call last)",
      "\u001b[1;32m<ipython-input-42-89524fa82f50>\u001b[0m in \u001b[0;36m<module>\u001b[1;34m\u001b[0m\n\u001b[0;32m      2\u001b[0m \u001b[1;32mimport\u001b[0m \u001b[0munittest\u001b[0m\u001b[1;33m\u001b[0m\u001b[1;33m\u001b[0m\u001b[0m\n\u001b[0;32m      3\u001b[0m \u001b[1;33m\u001b[0m\u001b[0m\n\u001b[1;32m----> 4\u001b[1;33m \u001b[1;32mfrom\u001b[0m \u001b[0memails\u001b[0m \u001b[1;32mimport\u001b[0m \u001b[0mfind_email\u001b[0m\u001b[1;33m\u001b[0m\u001b[1;33m\u001b[0m\u001b[0m\n\u001b[0m\u001b[0;32m      5\u001b[0m \u001b[1;33m\u001b[0m\u001b[0m\n\u001b[0;32m      6\u001b[0m \u001b[1;32mclass\u001b[0m \u001b[0mEmailsTest\u001b[0m\u001b[1;33m(\u001b[0m\u001b[0munittest\u001b[0m\u001b[1;33m.\u001b[0m\u001b[0mTestCase\u001b[0m\u001b[1;33m)\u001b[0m\u001b[1;33m:\u001b[0m\u001b[1;33m\u001b[0m\u001b[1;33m\u001b[0m\u001b[0m\n",
      "\u001b[1;31mModuleNotFoundError\u001b[0m: No module named 'emails'"
     ]
    }
   ],
   "source": [
    "#!/usr/bin/env python3\n",
    "import unittest\n",
    "\n",
    "from emails import find_email\n",
    "\n",
    "class EmailsTest(unittest.TestCase):\n",
    "    def test_basic(self):\n",
    "        testcase = [None, \"Bree\", \"Campbell\"]\n",
    "        expected = \"breee@abc.edu\"\n",
    "        self.assertEqual(find_email(testcase), expected)\n",
    "if __name__ == '__main__':\n",
    "  unittest.main()"
   ]
  },
  {
   "cell_type": "markdown",
   "metadata": {},
   "source": [
    "imagine a scenario where the user doesn't give either their first name or last name. What do you think the output would be in this case?\n",
    "\n",
    "Lets try this out. Choose any first or last name of your choice or use the following name to be passed to emails.py as a parameter:"
   ]
  },
  {
   "cell_type": "code",
   "execution_count": 43,
   "metadata": {},
   "outputs": [],
   "source": [
    "def find_email(argv):\n",
    "  \"\"\" Return an email address based on the username given.\"\"\"\n",
    "  # Create the username based on the command line input.\n",
    "  try:\n",
    "    fullname = str(argv[1] + \" \" + argv[2])\n",
    "    # Preprocess the data\n",
    "    email_dict = populate_dictionary('/home/{{ username }}/data/user_emails.csv')\n",
    "    # Find and print the email\n",
    "    return email_dict.get(fullname.lower())\n",
    "  except IndexError:\n",
    "    return \"Missing parameters\""
   ]
  },
  {
   "cell_type": "markdown",
   "metadata": {},
   "source": [
    "Test Case 2: Random email address\n",
    "Let's find some other edge cases. We'll search for an employee that doesn't exist. Can you expect the output the script would give? The expected output in such a case should be \"No email address found\". Let's see how the script reacts to this case by adding a test case in the file emails_test.py just after the second test case."
   ]
  },
  {
   "cell_type": "code",
   "execution_count": null,
   "metadata": {},
   "outputs": [],
   "source": []
  }
 ],
 "metadata": {
  "kernelspec": {
   "display_name": "Python 3",
   "language": "python",
   "name": "python3"
  },
  "language_info": {
   "codemirror_mode": {
    "name": "ipython",
    "version": 3
   },
   "file_extension": ".py",
   "mimetype": "text/x-python",
   "name": "python",
   "nbconvert_exporter": "python",
   "pygments_lexer": "ipython3",
   "version": "3.7.4"
  }
 },
 "nbformat": 4,
 "nbformat_minor": 4
}

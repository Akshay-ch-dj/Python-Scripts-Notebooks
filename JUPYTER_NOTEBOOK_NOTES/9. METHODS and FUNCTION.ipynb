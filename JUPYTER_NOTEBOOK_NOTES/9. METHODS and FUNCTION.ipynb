{
 "cells": [
  {
   "cell_type": "code",
   "execution_count": 7,
   "metadata": {},
   "outputs": [],
   "source": [
    "def pig_latin (word):\n",
    "    vowel = ['a','e','i','o','u']\n",
    "    for letter in vowel:\n",
    "        if letter == word[0].lower():\n",
    "            return word+'ay'\n",
    "        else:\n",
    "            return word[1::]+word[0].lower()+'ay'"
   ]
  },
  {
   "cell_type": "code",
   "execution_count": 8,
   "metadata": {},
   "outputs": [
    {
     "name": "stdout",
     "output_type": "stream",
     "text": [
      "Enter the word:Word\n"
     ]
    },
    {
     "data": {
      "text/plain": [
       "'ordway'"
      ]
     },
     "execution_count": 8,
     "metadata": {},
     "output_type": "execute_result"
    }
   ],
   "source": [
    "word = input('Enter the word:')\n",
    "pig_latin(word)"
   ]
  },
  {
   "cell_type": "code",
   "execution_count": 39,
   "metadata": {},
   "outputs": [],
   "source": [
    "# Check for prime function\n",
    "\n",
    "def is_prime(num):\n",
    "    '''\n",
    "    Cheks the number is prime or not\n",
    "    conventional way\n",
    "    \n",
    "    '''\n",
    "    count = 0\n",
    "    for number in range(2,num):  \n",
    "        \n",
    "        # from 2 up to num -1,\n",
    "        if num%number == 0:\n",
    "            count += 1\n",
    "        \n",
    "    if count == 0:\n",
    "        print(num,'is prime')\n",
    "    else:\n",
    "        print(num,'not prime')\n",
    "    "
   ]
  },
  {
   "cell_type": "code",
   "execution_count": 48,
   "metadata": {},
   "outputs": [
    {
     "name": "stdout",
     "output_type": "stream",
     "text": [
      "Enter the no: 2\n",
      "2 is prime\n"
     ]
    }
   ],
   "source": [
    "is_prime(int(input('Enter the no: ')))"
   ]
  },
  {
   "cell_type": "code",
   "execution_count": 45,
   "metadata": {},
   "outputs": [],
   "source": [
    "# better function for checking prime\n",
    "\n",
    "def is_prime1(num):\n",
    "    \n",
    "    for n in range(2,num):\n",
    "        if num%n == 0:                 # if one check correct,print and breaks\n",
    "            print(num,'is not prime')\n",
    "            break\n",
    "    else:                              #indented to match for, after all if checks\n",
    "        print(num,'is prime')"
   ]
  },
  {
   "cell_type": "code",
   "execution_count": 47,
   "metadata": {},
   "outputs": [
    {
     "name": "stdout",
     "output_type": "stream",
     "text": [
      "Enter the no: 2\n",
      "2 is prime\n"
     ]
    }
   ],
   "source": [
    "is_prime1(int(input('Enter the no: ')))"
   ]
  },
  {
   "cell_type": "code",
   "execution_count": 50,
   "metadata": {},
   "outputs": [],
   "source": [
    "# Far better function for checking prime\n",
    "\n",
    "import math\n",
    "\n",
    "def is_prime2(num):\n",
    "    \n",
    "    if num%2 == 0 and num>2:\n",
    "        return False\n",
    "    for i in range(3,int(math.sqrt(num))+1,2):\n",
    "        if num%i == 0:\n",
    "            return False\n",
    "    return True\n",
    "        "
   ]
  },
  {
   "cell_type": "code",
   "execution_count": 51,
   "metadata": {},
   "outputs": [
    {
     "name": "stdout",
     "output_type": "stream",
     "text": [
      "Enter the no: 7\n"
     ]
    },
    {
     "data": {
      "text/plain": [
       "True"
      ]
     },
     "execution_count": 51,
     "metadata": {},
     "output_type": "execute_result"
    }
   ],
   "source": [
    "is_prime2(int(input('Enter the no: ')))"
   ]
  },
  {
   "cell_type": "code",
   "execution_count": 60,
   "metadata": {},
   "outputs": [],
   "source": [
    "# *args and **kwargs\n",
    "\n",
    "def my_func(*args):\n",
    "    for item in args:\n",
    "        print(item)"
   ]
  },
  {
   "cell_type": "code",
   "execution_count": 61,
   "metadata": {},
   "outputs": [
    {
     "name": "stdout",
     "output_type": "stream",
     "text": [
      "40\n",
      "50\n",
      "60\n",
      "10\n",
      "25\n"
     ]
    }
   ],
   "source": [
    "my_func(40,50,60,10,25)"
   ]
  },
  {
   "cell_type": "code",
   "execution_count": 69,
   "metadata": {},
   "outputs": [],
   "source": [
    "def myfunc(*args):\n",
    "    \n",
    "    mylist =[]\n",
    "    for element in args:\n",
    "        if element%2 == 0:\n",
    "            mylist.append(element)\n",
    "    return mylist\n",
    "            "
   ]
  },
  {
   "cell_type": "code",
   "execution_count": 70,
   "metadata": {},
   "outputs": [
    {
     "data": {
      "text/plain": [
       "[6, 8]"
      ]
     },
     "execution_count": 70,
     "metadata": {},
     "output_type": "execute_result"
    }
   ],
   "source": [
    "myfunc(5,6,9,8)"
   ]
  },
  {
   "cell_type": "code",
   "execution_count": 83,
   "metadata": {},
   "outputs": [],
   "source": [
    "def myfunc1(*args):\n",
    "\n",
    "\n",
    "    mylist = [element for element in args if element%2 == 0]\n",
    "    return mylist"
   ]
  },
  {
   "cell_type": "code",
   "execution_count": 84,
   "metadata": {},
   "outputs": [
    {
     "data": {
      "text/plain": [
       "[6, 8]"
      ]
     },
     "execution_count": 84,
     "metadata": {},
     "output_type": "execute_result"
    }
   ],
   "source": [
    "myfunc1(5,6,9,8)"
   ]
  },
  {
   "cell_type": "code",
   "execution_count": 86,
   "metadata": {},
   "outputs": [],
   "source": [
    "def myfunc2(*args):\n",
    "    \n",
    "    return [n for n in args if n%2 == 0]"
   ]
  },
  {
   "cell_type": "code",
   "execution_count": 87,
   "metadata": {},
   "outputs": [
    {
     "data": {
      "text/plain": [
       "[6, 8]"
      ]
     },
     "execution_count": 87,
     "metadata": {},
     "output_type": "execute_result"
    }
   ],
   "source": [
    "myfunc2(5,6,9,8)"
   ]
  },
  {
   "cell_type": "code",
   "execution_count": 144,
   "metadata": {},
   "outputs": [],
   "source": [
    "# Skyline challenge\n",
    "\n",
    "def myfunc(mystring):\n",
    "    \n",
    "    newstring =''\n",
    "    newList = []\n",
    "    for n in range(0, len(mystring), 2):\n",
    "        newList.insert(n, mystring[n].lower())\n",
    "        \n",
    "    for m in range(1, len(mystring), 2):\n",
    "        newList.insert(m, mystring[m].upper())\n",
    "        \n",
    "    return (newstring.join(newList))\n",
    "    "
   ]
  },
  {
   "cell_type": "code",
   "execution_count": 146,
   "metadata": {},
   "outputs": [
    {
     "data": {
      "text/plain": [
       "'aNtHrOpHoBiA'"
      ]
     },
     "execution_count": 146,
     "metadata": {},
     "output_type": "execute_result"
    }
   ],
   "source": [
    "myfunc('Anthrophobia')"
   ]
  },
  {
   "cell_type": "code",
   "execution_count": 141,
   "metadata": {},
   "outputs": [],
   "source": [
    "string1 = ''\n",
    "list1 = ['q','d','g']"
   ]
  },
  {
   "cell_type": "code",
   "execution_count": 142,
   "metadata": {},
   "outputs": [],
   "source": [
    "string1 = string1.join(list1)"
   ]
  },
  {
   "cell_type": "code",
   "execution_count": 143,
   "metadata": {},
   "outputs": [
    {
     "data": {
      "text/plain": [
       "'qdg'"
      ]
     },
     "execution_count": 143,
     "metadata": {},
     "output_type": "execute_result"
    }
   ],
   "source": [
    "string1"
   ]
  },
  {
   "cell_type": "code",
   "execution_count": null,
   "metadata": {},
   "outputs": [],
   "source": []
  }
 ],
 "metadata": {
  "kernelspec": {
   "display_name": "Python 3",
   "language": "python",
   "name": "python3"
  },
  "language_info": {
   "codemirror_mode": {
    "name": "ipython",
    "version": 3
   },
   "file_extension": ".py",
   "mimetype": "text/x-python",
   "name": "python",
   "nbconvert_exporter": "python",
   "pygments_lexer": "ipython3",
   "version": "3.7.3"
  }
 },
 "nbformat": 4,
 "nbformat_minor": 2
}

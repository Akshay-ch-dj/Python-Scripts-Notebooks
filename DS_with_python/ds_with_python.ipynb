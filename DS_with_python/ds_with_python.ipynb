{
 "metadata": {
  "language_info": {
   "codemirror_mode": {
    "name": "ipython",
    "version": 3
   },
   "file_extension": ".py",
   "mimetype": "text/x-python",
   "name": "python",
   "nbconvert_exporter": "python",
   "pygments_lexer": "ipython3",
   "version": "3.8.5-final"
  },
  "orig_nbformat": 2,
  "kernelspec": {
   "name": "python3",
   "display_name": "Python 3",
   "language": "python"
  }
 },
 "nbformat": 4,
 "nbformat_minor": 2,
 "cells": [
  {
   "source": [
    "## Bubble Sort\n"
   ],
   "cell_type": "markdown",
   "metadata": {}
  },
  {
   "cell_type": "code",
   "execution_count": 5,
   "metadata": {},
   "outputs": [
    {
     "output_type": "stream",
     "name": "stdout",
     "text": [
      "[2, 3, 5, 5, 6, 8, 9]\n"
     ]
    }
   ],
   "source": [
    "def bubbleSort(arr):\n",
    "    arrLen = len(arr)\n",
    "    sortedArray = False\n",
    "    # traverse through the array till sorted\n",
    "    while not sortedArray:\n",
    "        swapCount = 0;\n",
    "        for i in range(arrLen - 1):\n",
    "            # do the swapping for a higher next element\n",
    "            if arr[i] > arr[i+1]:\n",
    "                # swap\n",
    "                arr[i], arr[i+1] = arr[i+1], arr[i]\n",
    "                swapCount += 1\n",
    "        if swapCount == 0:\n",
    "            sortedArray = True\n",
    "        else:\n",
    "            arrLen -= 1\n",
    "    return arr\n",
    "\n",
    "print(bubbleSort([8, 5, 2, 9, 5, 6, 3]))"
   ]
  },
  {
   "cell_type": "code",
   "execution_count": null,
   "metadata": {},
   "outputs": [],
   "source": []
  }
 ]
}